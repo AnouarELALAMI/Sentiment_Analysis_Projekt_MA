{
 "cells": [
  {
   "cell_type": "code",
   "execution_count": 313,
   "metadata": {},
   "outputs": [],
   "source": [
    "import pandas as pd"
   ]
  },
  {
   "cell_type": "code",
   "execution_count": 314,
   "metadata": {},
   "outputs": [],
   "source": [
    "import numpy as np"
   ]
  },
  {
   "cell_type": "code",
   "execution_count": 315,
   "metadata": {},
   "outputs": [],
   "source": [
    "import matplotlib.pyplot as plt"
   ]
  },
  {
   "cell_type": "code",
   "execution_count": 316,
   "metadata": {},
   "outputs": [],
   "source": [
    "import seaborn as sns"
   ]
  },
  {
   "cell_type": "code",
   "execution_count": 317,
   "metadata": {},
   "outputs": [],
   "source": [
    "import nltk"
   ]
  },
  {
   "cell_type": "code",
   "execution_count": 318,
   "metadata": {},
   "outputs": [],
   "source": [
    "import tensorflow as tf"
   ]
  },
  {
   "cell_type": "code",
   "execution_count": 319,
   "metadata": {},
   "outputs": [],
   "source": [
    "from sklearn.preprocessing import LabelEncoder\n",
    "from sklearn.model_selection import train_test_split"
   ]
  },
  {
   "cell_type": "code",
   "execution_count": 320,
   "metadata": {},
   "outputs": [],
   "source": [
    "import string"
   ]
  },
  {
   "cell_type": "code",
   "execution_count": 321,
   "metadata": {},
   "outputs": [],
   "source": [
    "df= pd.read_excel(\"bereinigt_daten.xlsx\")"
   ]
  },
  {
   "cell_type": "code",
   "execution_count": 322,
   "metadata": {},
   "outputs": [
    {
     "data": {
      "text/html": [
       "<div>\n",
       "<style scoped>\n",
       "    .dataframe tbody tr th:only-of-type {\n",
       "        vertical-align: middle;\n",
       "    }\n",
       "\n",
       "    .dataframe tbody tr th {\n",
       "        vertical-align: top;\n",
       "    }\n",
       "\n",
       "    .dataframe thead th {\n",
       "        text-align: right;\n",
       "    }\n",
       "</style>\n",
       "<table border=\"1\" class=\"dataframe\">\n",
       "  <thead>\n",
       "    <tr style=\"text-align: right;\">\n",
       "      <th></th>\n",
       "      <th>Unnamed: 0</th>\n",
       "      <th>text</th>\n",
       "      <th>sentiment</th>\n",
       "      <th>score</th>\n",
       "      <th>Wortzählung</th>\n",
       "      <th>Sprache</th>\n",
       "    </tr>\n",
       "  </thead>\n",
       "  <tbody>\n",
       "    <tr>\n",
       "      <th>0</th>\n",
       "      <td>0</td>\n",
       "      <td>summary of \"yesterdays\" webcast featuring  aap...</td>\n",
       "      <td>neutral</td>\n",
       "      <td>0.000000</td>\n",
       "      <td>15</td>\n",
       "      <td>en</td>\n",
       "    </tr>\n",
       "    <tr>\n",
       "      <th>1</th>\n",
       "      <td>1</td>\n",
       "      <td>itv will boost apple   aapl apple.</td>\n",
       "      <td>neutral</td>\n",
       "      <td>0.000000</td>\n",
       "      <td>6</td>\n",
       "      <td>en</td>\n",
       "    </tr>\n",
       "    <tr>\n",
       "      <th>2</th>\n",
       "      <td>2</td>\n",
       "      <td>iphone users are more intelligent than samsung...</td>\n",
       "      <td>positiv</td>\n",
       "      <td>0.650000</td>\n",
       "      <td>14</td>\n",
       "      <td>en</td>\n",
       "    </tr>\n",
       "    <tr>\n",
       "      <th>3</th>\n",
       "      <td>3</td>\n",
       "      <td>2013 wrap-up and trading set review - part iii...</td>\n",
       "      <td>neutral</td>\n",
       "      <td>0.000000</td>\n",
       "      <td>21</td>\n",
       "      <td>en</td>\n",
       "    </tr>\n",
       "    <tr>\n",
       "      <th>4</th>\n",
       "      <td>4</td>\n",
       "      <td>apple screwed up big time   amzn  aapl.</td>\n",
       "      <td>neutral</td>\n",
       "      <td>0.000000</td>\n",
       "      <td>7</td>\n",
       "      <td>en</td>\n",
       "    </tr>\n",
       "    <tr>\n",
       "      <th>5</th>\n",
       "      <td>5</td>\n",
       "      <td>aapl - wall st . kicks off new year on lower ...</td>\n",
       "      <td>positiv</td>\n",
       "      <td>0.136364</td>\n",
       "      <td>16</td>\n",
       "      <td>en</td>\n",
       "    </tr>\n",
       "    <tr>\n",
       "      <th>6</th>\n",
       "      <td>6</td>\n",
       "      <td>\"heres\" how apple could be making a huge push ...</td>\n",
       "      <td>positiv</td>\n",
       "      <td>0.400000</td>\n",
       "      <td>13</td>\n",
       "      <td>en</td>\n",
       "    </tr>\n",
       "    <tr>\n",
       "      <th>7</th>\n",
       "      <td>7</td>\n",
       "      <td>our top 3 trade ideas for 2014 and two  1000 f...</td>\n",
       "      <td>positiv</td>\n",
       "      <td>0.400000</td>\n",
       "      <td>22</td>\n",
       "      <td>en</td>\n",
       "    </tr>\n",
       "    <tr>\n",
       "      <th>8</th>\n",
       "      <td>8</td>\n",
       "      <td>aapl having breathing difficulties.</td>\n",
       "      <td>neutral</td>\n",
       "      <td>0.000000</td>\n",
       "      <td>5</td>\n",
       "      <td>en</td>\n",
       "    </tr>\n",
       "    <tr>\n",
       "      <th>9</th>\n",
       "      <td>9</td>\n",
       "      <td>emylers : \"cheekys\" board ! :  aapl up to date...</td>\n",
       "      <td>negativ</td>\n",
       "      <td>-0.125000</td>\n",
       "      <td>16</td>\n",
       "      <td>en</td>\n",
       "    </tr>\n",
       "  </tbody>\n",
       "</table>\n",
       "</div>"
      ],
      "text/plain": [
       "   Unnamed: 0                                               text sentiment  \\\n",
       "0           0  summary of \"yesterdays\" webcast featuring  aap...   neutral   \n",
       "1           1                 itv will boost apple   aapl apple.   neutral   \n",
       "2           2  iphone users are more intelligent than samsung...   positiv   \n",
       "3           3  2013 wrap-up and trading set review - part iii...   neutral   \n",
       "4           4            apple screwed up big time   amzn  aapl.   neutral   \n",
       "5           5   aapl - wall st . kicks off new year on lower ...   positiv   \n",
       "6           6  \"heres\" how apple could be making a huge push ...   positiv   \n",
       "7           7  our top 3 trade ideas for 2014 and two  1000 f...   positiv   \n",
       "8           8                aapl having breathing difficulties.   neutral   \n",
       "9           9  emylers : \"cheekys\" board ! :  aapl up to date...   negativ   \n",
       "\n",
       "      score  Wortzählung Sprache  \n",
       "0  0.000000           15      en  \n",
       "1  0.000000            6      en  \n",
       "2  0.650000           14      en  \n",
       "3  0.000000           21      en  \n",
       "4  0.000000            7      en  \n",
       "5  0.136364           16      en  \n",
       "6  0.400000           13      en  \n",
       "7  0.400000           22      en  \n",
       "8  0.000000            5      en  \n",
       "9 -0.125000           16      en  "
      ]
     },
     "execution_count": 322,
     "metadata": {},
     "output_type": "execute_result"
    }
   ],
   "source": [
    "df.head(10)"
   ]
  },
  {
   "cell_type": "code",
   "execution_count": 323,
   "metadata": {},
   "outputs": [],
   "source": [
    "# Stimmung\n"
   ]
  },
  {
   "cell_type": "code",
   "execution_count": 324,
   "metadata": {},
   "outputs": [],
   "source": [
    "Stimmung = df[\"sentiment\"].value_counts()"
   ]
  },
  {
   "cell_type": "code",
   "execution_count": 325,
   "metadata": {},
   "outputs": [
    {
     "data": {
      "text/plain": [
       "sentiment\n",
       "positiv    28252\n",
       "negativ    23760\n",
       "neutral    19668\n",
       "Name: count, dtype: int64"
      ]
     },
     "execution_count": 325,
     "metadata": {},
     "output_type": "execute_result"
    }
   ],
   "source": [
    "Stimmung"
   ]
  },
  {
   "cell_type": "code",
   "execution_count": 326,
   "metadata": {},
   "outputs": [
    {
     "data": {
      "image/png": "[encoded data removed]",
      "text/plain": [
       "<Figure size 640x480 with 1 Axes>"
      ]
     },
     "metadata": {},
     "output_type": "display_data"
    }
   ],
   "source": [
    "sentiment_counts = df['sentiment'].value_counts()\n",
    "\n",
    "# Balkendiagramm erstellen\n",
    "sentiment_counts.plot(kind='bar', color=['gray', 'g', 'r'])\n",
    "plt.title('Sentiment Analysis')\n",
    "plt.xlabel('Sentiment')\n",
    "plt.ylabel('Count')\n",
    "plt.xticks(rotation=0)\n",
    "plt.show()"
   ]
  },
  {
   "cell_type": "code",
   "execution_count": 327,
   "metadata": {},
   "outputs": [],
   "source": [
    "#df.groupby([\"Firmen\", \"sentiment\"]).size().unstack().plot(kind=\"bar\",color=['red', 'gray', 'g'], stacked=True)"
   ]
  },
  {
   "cell_type": "code",
   "execution_count": 328,
   "metadata": {},
   "outputs": [
    {
     "data": {
      "text/plain": [
       "<Axes: xlabel='tweet_length'>"
      ]
     },
     "execution_count": 328,
     "metadata": {},
     "output_type": "execute_result"
    },
    {
     "data": {
      "image/png": "[encoded data removed]",
      "text/plain": [
       "<Figure size 640x480 with 1 Axes>"
      ]
     },
     "metadata": {},
     "output_type": "display_data"
    }
   ],
   "source": [
    "df[\"tweet_length\"]= df[\"text\"].apply(len)\n",
    "df.groupby([\"tweet_length\",\"sentiment\"]).size().unstack().plot(kind=\"line\",color=['red', 'gray', 'g'], stacked=False)"
   ]
  },
  {
   "cell_type": "code",
   "execution_count": 329,
   "metadata": {},
   "outputs": [],
   "source": [
    "text_sentiment_at_20000 = df.loc[20000, [\"text\", \"sentiment\"]]"
   ]
  },
  {
   "cell_type": "code",
   "execution_count": 330,
   "metadata": {},
   "outputs": [
    {
     "data": {
      "text/plain": [
       "text         wall street breakfast : wti  brent crude reach...\n",
       "sentiment                                              negativ\n",
       "Name: 20000, dtype: object"
      ]
     },
     "execution_count": 330,
     "metadata": {},
     "output_type": "execute_result"
    }
   ],
   "source": [
    "text_sentiment_at_20000"
   ]
  },
  {
   "cell_type": "code",
   "execution_count": 331,
   "metadata": {},
   "outputs": [
    {
     "data": {
      "text/plain": [
       "Unnamed: 0                                                  24270\n",
       "text            wall street breakfast : wti  brent crude reach...\n",
       "sentiment                                                 negativ\n",
       "score                                                        -0.7\n",
       "Wortzählung                                                    19\n",
       "Sprache                                                        en\n",
       "tweet_length                                                  101\n",
       "Name: 20000, dtype: object"
      ]
     },
     "execution_count": 331,
     "metadata": {},
     "output_type": "execute_result"
    }
   ],
   "source": [
    "df.iloc[20000]"
   ]
  },
  {
   "cell_type": "code",
   "execution_count": 332,
   "metadata": {},
   "outputs": [],
   "source": [
    "text_len= []\n",
    "for text in df[\"text\"]:\n",
    "    tweet_len = len(text.split())\n",
    "    text_len.append(tweet_len)"
   ]
  },
  {
   "cell_type": "code",
   "execution_count": 333,
   "metadata": {},
   "outputs": [],
   "source": [
    "df[\"text_len\"]=text_len"
   ]
  },
  {
   "cell_type": "code",
   "execution_count": 334,
   "metadata": {},
   "outputs": [
    {
     "data": {
      "image/png": "[encoded data removed]",
      "text/plain": [
       "<Figure size 1000x500 with 1 Axes>"
      ]
     },
     "metadata": {},
     "output_type": "display_data"
    }
   ],
   "source": [
    "plt.figure(figsize=(10, 5))\n",
    "sns.histplot(x=\"text_len\", data=df, bins=20)\n",
    "plt.title(\"Cleaned text Lenght\")\n",
    "plt.show()"
   ]
  },
  {
   "cell_type": "code",
   "execution_count": 335,
   "metadata": {},
   "outputs": [
    {
     "data": {
      "text/html": [
       "<div>\n",
       "<style scoped>\n",
       "    .dataframe tbody tr th:only-of-type {\n",
       "        vertical-align: middle;\n",
       "    }\n",
       "\n",
       "    .dataframe tbody tr th {\n",
       "        vertical-align: top;\n",
       "    }\n",
       "\n",
       "    .dataframe thead th {\n",
       "        text-align: right;\n",
       "    }\n",
       "</style>\n",
       "<table border=\"1\" class=\"dataframe\">\n",
       "  <thead>\n",
       "    <tr style=\"text-align: right;\">\n",
       "      <th></th>\n",
       "      <th>Unnamed: 0</th>\n",
       "      <th>text</th>\n",
       "      <th>sentiment</th>\n",
       "      <th>score</th>\n",
       "      <th>Wortzählung</th>\n",
       "      <th>Sprache</th>\n",
       "      <th>tweet_length</th>\n",
       "      <th>text_len</th>\n",
       "    </tr>\n",
       "  </thead>\n",
       "  <tbody>\n",
       "    <tr>\n",
       "      <th>0</th>\n",
       "      <td>0</td>\n",
       "      <td>summary of \"yesterdays\" webcast featuring  aap...</td>\n",
       "      <td>neutral</td>\n",
       "      <td>0.000000</td>\n",
       "      <td>15</td>\n",
       "      <td>en</td>\n",
       "      <td>112</td>\n",
       "      <td>15</td>\n",
       "    </tr>\n",
       "    <tr>\n",
       "      <th>1</th>\n",
       "      <td>1</td>\n",
       "      <td>itv will boost apple   aapl apple.</td>\n",
       "      <td>neutral</td>\n",
       "      <td>0.000000</td>\n",
       "      <td>6</td>\n",
       "      <td>en</td>\n",
       "      <td>34</td>\n",
       "      <td>6</td>\n",
       "    </tr>\n",
       "    <tr>\n",
       "      <th>2</th>\n",
       "      <td>2</td>\n",
       "      <td>iphone users are more intelligent than samsung...</td>\n",
       "      <td>positiv</td>\n",
       "      <td>0.650000</td>\n",
       "      <td>14</td>\n",
       "      <td>en</td>\n",
       "      <td>89</td>\n",
       "      <td>14</td>\n",
       "    </tr>\n",
       "    <tr>\n",
       "      <th>3</th>\n",
       "      <td>3</td>\n",
       "      <td>2013 wrap-up and trading set review - part iii...</td>\n",
       "      <td>neutral</td>\n",
       "      <td>0.000000</td>\n",
       "      <td>21</td>\n",
       "      <td>en</td>\n",
       "      <td>112</td>\n",
       "      <td>21</td>\n",
       "    </tr>\n",
       "    <tr>\n",
       "      <th>4</th>\n",
       "      <td>4</td>\n",
       "      <td>apple screwed up big time   amzn  aapl.</td>\n",
       "      <td>neutral</td>\n",
       "      <td>0.000000</td>\n",
       "      <td>7</td>\n",
       "      <td>en</td>\n",
       "      <td>39</td>\n",
       "      <td>7</td>\n",
       "    </tr>\n",
       "    <tr>\n",
       "      <th>...</th>\n",
       "      <td>...</td>\n",
       "      <td>...</td>\n",
       "      <td>...</td>\n",
       "      <td>...</td>\n",
       "      <td>...</td>\n",
       "      <td>...</td>\n",
       "      <td>...</td>\n",
       "      <td>...</td>\n",
       "    </tr>\n",
       "    <tr>\n",
       "      <th>71675</th>\n",
       "      <td>18121</td>\n",
       "      <td>Federal Realty Investment Trust $F Short Inter...</td>\n",
       "      <td>negativ</td>\n",
       "      <td>-0.077778</td>\n",
       "      <td>13</td>\n",
       "      <td>en</td>\n",
       "      <td>78</td>\n",
       "      <td>12</td>\n",
       "    </tr>\n",
       "    <tr>\n",
       "      <th>71676</th>\n",
       "      <td>18122</td>\n",
       "      <td>Microchip Technology Inc. $MCHP Short Interest...</td>\n",
       "      <td>negativ</td>\n",
       "      <td>-0.077778</td>\n",
       "      <td>12</td>\n",
       "      <td>en</td>\n",
       "      <td>75</td>\n",
       "      <td>11</td>\n",
       "    </tr>\n",
       "    <tr>\n",
       "      <th>71677</th>\n",
       "      <td>18123</td>\n",
       "      <td>MicroStrategy Incorporated $MSTR Short Interes...</td>\n",
       "      <td>negativ</td>\n",
       "      <td>-0.077778</td>\n",
       "      <td>11</td>\n",
       "      <td>en</td>\n",
       "      <td>76</td>\n",
       "      <td>10</td>\n",
       "    </tr>\n",
       "    <tr>\n",
       "      <th>71678</th>\n",
       "      <td>18124</td>\n",
       "      <td>Monster Beverage Corp $MNST Short Interest Dow...</td>\n",
       "      <td>negativ</td>\n",
       "      <td>-0.077778</td>\n",
       "      <td>12</td>\n",
       "      <td>en</td>\n",
       "      <td>71</td>\n",
       "      <td>11</td>\n",
       "    </tr>\n",
       "    <tr>\n",
       "      <th>71679</th>\n",
       "      <td>18125</td>\n",
       "      <td>Tesla - Daily\\n#SP500 \\nShort Term: $660 / $76...</td>\n",
       "      <td>negativ</td>\n",
       "      <td>-0.006250</td>\n",
       "      <td>46</td>\n",
       "      <td>en</td>\n",
       "      <td>266</td>\n",
       "      <td>46</td>\n",
       "    </tr>\n",
       "  </tbody>\n",
       "</table>\n",
       "<p>71680 rows × 8 columns</p>\n",
       "</div>"
      ],
      "text/plain": [
       "       Unnamed: 0                                               text  \\\n",
       "0               0  summary of \"yesterdays\" webcast featuring  aap...   \n",
       "1               1                 itv will boost apple   aapl apple.   \n",
       "2               2  iphone users are more intelligent than samsung...   \n",
       "3               3  2013 wrap-up and trading set review - part iii...   \n",
       "4               4            apple screwed up big time   amzn  aapl.   \n",
       "...           ...                                                ...   \n",
       "71675       18121  Federal Realty Investment Trust $F Short Inter...   \n",
       "71676       18122  Microchip Technology Inc. $MCHP Short Interest...   \n",
       "71677       18123  MicroStrategy Incorporated $MSTR Short Interes...   \n",
       "71678       18124  Monster Beverage Corp $MNST Short Interest Dow...   \n",
       "71679       18125  Tesla - Daily\\n#SP500 \\nShort Term: $660 / $76...   \n",
       "\n",
       "      sentiment     score  Wortzählung Sprache  tweet_length  text_len  \n",
       "0       neutral  0.000000           15      en           112        15  \n",
       "1       neutral  0.000000            6      en            34         6  \n",
       "2       positiv  0.650000           14      en            89        14  \n",
       "3       neutral  0.000000           21      en           112        21  \n",
       "4       neutral  0.000000            7      en            39         7  \n",
       "...         ...       ...          ...     ...           ...       ...  \n",
       "71675   negativ -0.077778           13      en            78        12  \n",
       "71676   negativ -0.077778           12      en            75        11  \n",
       "71677   negativ -0.077778           11      en            76        10  \n",
       "71678   negativ -0.077778           12      en            71        11  \n",
       "71679   negativ -0.006250           46      en           266        46  \n",
       "\n",
       "[71680 rows x 8 columns]"
      ]
     },
     "execution_count": 335,
     "metadata": {},
     "output_type": "execute_result"
    }
   ],
   "source": [
    "df"
   ]
  },
  {
   "cell_type": "code",
   "execution_count": 336,
   "metadata": {},
   "outputs": [
    {
     "data": {
      "text/html": [
       "<div>\n",
       "<style scoped>\n",
       "    .dataframe tbody tr th:only-of-type {\n",
       "        vertical-align: middle;\n",
       "    }\n",
       "\n",
       "    .dataframe tbody tr th {\n",
       "        vertical-align: top;\n",
       "    }\n",
       "\n",
       "    .dataframe thead th {\n",
       "        text-align: right;\n",
       "    }\n",
       "</style>\n",
       "<table border=\"1\" class=\"dataframe\">\n",
       "  <thead>\n",
       "    <tr style=\"text-align: right;\">\n",
       "      <th></th>\n",
       "      <th>Unnamed: 0</th>\n",
       "      <th>text</th>\n",
       "      <th>sentiment</th>\n",
       "      <th>score</th>\n",
       "      <th>Wortzählung</th>\n",
       "      <th>Sprache</th>\n",
       "      <th>tweet_length</th>\n",
       "      <th>text_len</th>\n",
       "    </tr>\n",
       "  </thead>\n",
       "  <tbody>\n",
       "    <tr>\n",
       "      <th>0</th>\n",
       "      <td>0</td>\n",
       "      <td>summary of \"yesterdays\" webcast featuring  aap...</td>\n",
       "      <td>neutral</td>\n",
       "      <td>0.000000</td>\n",
       "      <td>15</td>\n",
       "      <td>en</td>\n",
       "      <td>112</td>\n",
       "      <td>15</td>\n",
       "    </tr>\n",
       "    <tr>\n",
       "      <th>1</th>\n",
       "      <td>1</td>\n",
       "      <td>itv will boost apple   aapl apple.</td>\n",
       "      <td>neutral</td>\n",
       "      <td>0.000000</td>\n",
       "      <td>6</td>\n",
       "      <td>en</td>\n",
       "      <td>34</td>\n",
       "      <td>6</td>\n",
       "    </tr>\n",
       "    <tr>\n",
       "      <th>2</th>\n",
       "      <td>2</td>\n",
       "      <td>iphone users are more intelligent than samsung...</td>\n",
       "      <td>positiv</td>\n",
       "      <td>0.650000</td>\n",
       "      <td>14</td>\n",
       "      <td>en</td>\n",
       "      <td>89</td>\n",
       "      <td>14</td>\n",
       "    </tr>\n",
       "    <tr>\n",
       "      <th>3</th>\n",
       "      <td>3</td>\n",
       "      <td>2013 wrap-up and trading set review - part iii...</td>\n",
       "      <td>neutral</td>\n",
       "      <td>0.000000</td>\n",
       "      <td>21</td>\n",
       "      <td>en</td>\n",
       "      <td>112</td>\n",
       "      <td>21</td>\n",
       "    </tr>\n",
       "    <tr>\n",
       "      <th>4</th>\n",
       "      <td>4</td>\n",
       "      <td>apple screwed up big time   amzn  aapl.</td>\n",
       "      <td>neutral</td>\n",
       "      <td>0.000000</td>\n",
       "      <td>7</td>\n",
       "      <td>en</td>\n",
       "      <td>39</td>\n",
       "      <td>7</td>\n",
       "    </tr>\n",
       "    <tr>\n",
       "      <th>...</th>\n",
       "      <td>...</td>\n",
       "      <td>...</td>\n",
       "      <td>...</td>\n",
       "      <td>...</td>\n",
       "      <td>...</td>\n",
       "      <td>...</td>\n",
       "      <td>...</td>\n",
       "      <td>...</td>\n",
       "    </tr>\n",
       "    <tr>\n",
       "      <th>71675</th>\n",
       "      <td>18121</td>\n",
       "      <td>Federal Realty Investment Trust $F Short Inter...</td>\n",
       "      <td>negativ</td>\n",
       "      <td>-0.077778</td>\n",
       "      <td>13</td>\n",
       "      <td>en</td>\n",
       "      <td>78</td>\n",
       "      <td>12</td>\n",
       "    </tr>\n",
       "    <tr>\n",
       "      <th>71676</th>\n",
       "      <td>18122</td>\n",
       "      <td>Microchip Technology Inc. $MCHP Short Interest...</td>\n",
       "      <td>negativ</td>\n",
       "      <td>-0.077778</td>\n",
       "      <td>12</td>\n",
       "      <td>en</td>\n",
       "      <td>75</td>\n",
       "      <td>11</td>\n",
       "    </tr>\n",
       "    <tr>\n",
       "      <th>71677</th>\n",
       "      <td>18123</td>\n",
       "      <td>MicroStrategy Incorporated $MSTR Short Interes...</td>\n",
       "      <td>negativ</td>\n",
       "      <td>-0.077778</td>\n",
       "      <td>11</td>\n",
       "      <td>en</td>\n",
       "      <td>76</td>\n",
       "      <td>10</td>\n",
       "    </tr>\n",
       "    <tr>\n",
       "      <th>71678</th>\n",
       "      <td>18124</td>\n",
       "      <td>Monster Beverage Corp $MNST Short Interest Dow...</td>\n",
       "      <td>negativ</td>\n",
       "      <td>-0.077778</td>\n",
       "      <td>12</td>\n",
       "      <td>en</td>\n",
       "      <td>71</td>\n",
       "      <td>11</td>\n",
       "    </tr>\n",
       "    <tr>\n",
       "      <th>71679</th>\n",
       "      <td>18125</td>\n",
       "      <td>Tesla - Daily\\n#SP500 \\nShort Term: $660 / $76...</td>\n",
       "      <td>negativ</td>\n",
       "      <td>-0.006250</td>\n",
       "      <td>46</td>\n",
       "      <td>en</td>\n",
       "      <td>266</td>\n",
       "      <td>46</td>\n",
       "    </tr>\n",
       "  </tbody>\n",
       "</table>\n",
       "<p>71680 rows × 8 columns</p>\n",
       "</div>"
      ],
      "text/plain": [
       "       Unnamed: 0                                               text  \\\n",
       "0               0  summary of \"yesterdays\" webcast featuring  aap...   \n",
       "1               1                 itv will boost apple   aapl apple.   \n",
       "2               2  iphone users are more intelligent than samsung...   \n",
       "3               3  2013 wrap-up and trading set review - part iii...   \n",
       "4               4            apple screwed up big time   amzn  aapl.   \n",
       "...           ...                                                ...   \n",
       "71675       18121  Federal Realty Investment Trust $F Short Inter...   \n",
       "71676       18122  Microchip Technology Inc. $MCHP Short Interest...   \n",
       "71677       18123  MicroStrategy Incorporated $MSTR Short Interes...   \n",
       "71678       18124  Monster Beverage Corp $MNST Short Interest Dow...   \n",
       "71679       18125  Tesla - Daily\\n#SP500 \\nShort Term: $660 / $76...   \n",
       "\n",
       "      sentiment     score  Wortzählung Sprache  tweet_length  text_len  \n",
       "0       neutral  0.000000           15      en           112        15  \n",
       "1       neutral  0.000000            6      en            34         6  \n",
       "2       positiv  0.650000           14      en            89        14  \n",
       "3       neutral  0.000000           21      en           112        21  \n",
       "4       neutral  0.000000            7      en            39         7  \n",
       "...         ...       ...          ...     ...           ...       ...  \n",
       "71675   negativ -0.077778           13      en            78        12  \n",
       "71676   negativ -0.077778           12      en            75        11  \n",
       "71677   negativ -0.077778           11      en            76        10  \n",
       "71678   negativ -0.077778           12      en            71        11  \n",
       "71679   negativ -0.006250           46      en           266        46  \n",
       "\n",
       "[71680 rows x 8 columns]"
      ]
     },
     "execution_count": 336,
     "metadata": {},
     "output_type": "execute_result"
    }
   ],
   "source": [
    "df"
   ]
  },
  {
   "cell_type": "code",
   "execution_count": 337,
   "metadata": {},
   "outputs": [
    {
     "data": {
      "text/plain": [
       "71680"
      ]
     },
     "execution_count": 337,
     "metadata": {},
     "output_type": "execute_result"
    }
   ],
   "source": [
    "len(df[\"text\"])"
   ]
  },
  {
   "cell_type": "code",
   "execution_count": 338,
   "metadata": {},
   "outputs": [
    {
     "data": {
      "image/png": "[encoded data removed]",
      "text/plain": [
       "<Figure size 700x500 with 1 Axes>"
      ]
     },
     "metadata": {},
     "output_type": "display_data"
    }
   ],
   "source": [
    "plt.figure(figsize=(7, 5))\n",
    "ax= sns.countplot(x=\"text_len\", data= df[df[\"text_len\"]<10], palette=\"mako\")\n",
    "plt.title(\"tweets with less than 10 words\")\n",
    "plt.yticks([])\n",
    "ax.bar_label(ax.containers[0])\n",
    "plt.ylabel(\"count\")\n",
    "plt.show()"
   ]
  },
  {
   "cell_type": "code",
   "execution_count": null,
   "metadata": {},
   "outputs": [],
   "source": []
  },
  {
   "cell_type": "code",
   "execution_count": 339,
   "metadata": {},
   "outputs": [
    {
     "data": {
      "text/html": [
       "<div>\n",
       "<style scoped>\n",
       "    .dataframe tbody tr th:only-of-type {\n",
       "        vertical-align: middle;\n",
       "    }\n",
       "\n",
       "    .dataframe tbody tr th {\n",
       "        vertical-align: top;\n",
       "    }\n",
       "\n",
       "    .dataframe thead th {\n",
       "        text-align: right;\n",
       "    }\n",
       "</style>\n",
       "<table border=\"1\" class=\"dataframe\">\n",
       "  <thead>\n",
       "    <tr style=\"text-align: right;\">\n",
       "      <th></th>\n",
       "      <th>Unnamed: 0</th>\n",
       "      <th>text</th>\n",
       "      <th>sentiment</th>\n",
       "      <th>score</th>\n",
       "      <th>Wortzählung</th>\n",
       "      <th>Sprache</th>\n",
       "      <th>tweet_length</th>\n",
       "      <th>text_len</th>\n",
       "    </tr>\n",
       "  </thead>\n",
       "  <tbody>\n",
       "    <tr>\n",
       "      <th>0</th>\n",
       "      <td>0</td>\n",
       "      <td>summary of \"yesterdays\" webcast featuring  aap...</td>\n",
       "      <td>neutral</td>\n",
       "      <td>0.000000</td>\n",
       "      <td>15</td>\n",
       "      <td>en</td>\n",
       "      <td>112</td>\n",
       "      <td>15</td>\n",
       "    </tr>\n",
       "    <tr>\n",
       "      <th>1</th>\n",
       "      <td>1</td>\n",
       "      <td>itv will boost apple   aapl apple.</td>\n",
       "      <td>neutral</td>\n",
       "      <td>0.000000</td>\n",
       "      <td>6</td>\n",
       "      <td>en</td>\n",
       "      <td>34</td>\n",
       "      <td>6</td>\n",
       "    </tr>\n",
       "    <tr>\n",
       "      <th>2</th>\n",
       "      <td>2</td>\n",
       "      <td>iphone users are more intelligent than samsung...</td>\n",
       "      <td>positiv</td>\n",
       "      <td>0.650000</td>\n",
       "      <td>14</td>\n",
       "      <td>en</td>\n",
       "      <td>89</td>\n",
       "      <td>14</td>\n",
       "    </tr>\n",
       "    <tr>\n",
       "      <th>3</th>\n",
       "      <td>3</td>\n",
       "      <td>2013 wrap-up and trading set review - part iii...</td>\n",
       "      <td>neutral</td>\n",
       "      <td>0.000000</td>\n",
       "      <td>21</td>\n",
       "      <td>en</td>\n",
       "      <td>112</td>\n",
       "      <td>21</td>\n",
       "    </tr>\n",
       "    <tr>\n",
       "      <th>4</th>\n",
       "      <td>4</td>\n",
       "      <td>apple screwed up big time   amzn  aapl.</td>\n",
       "      <td>neutral</td>\n",
       "      <td>0.000000</td>\n",
       "      <td>7</td>\n",
       "      <td>en</td>\n",
       "      <td>39</td>\n",
       "      <td>7</td>\n",
       "    </tr>\n",
       "    <tr>\n",
       "      <th>5</th>\n",
       "      <td>5</td>\n",
       "      <td>aapl - wall st . kicks off new year on lower ...</td>\n",
       "      <td>positiv</td>\n",
       "      <td>0.136364</td>\n",
       "      <td>16</td>\n",
       "      <td>en</td>\n",
       "      <td>80</td>\n",
       "      <td>16</td>\n",
       "    </tr>\n",
       "    <tr>\n",
       "      <th>6</th>\n",
       "      <td>6</td>\n",
       "      <td>\"heres\" how apple could be making a huge push ...</td>\n",
       "      <td>positiv</td>\n",
       "      <td>0.400000</td>\n",
       "      <td>13</td>\n",
       "      <td>en</td>\n",
       "      <td>73</td>\n",
       "      <td>13</td>\n",
       "    </tr>\n",
       "    <tr>\n",
       "      <th>7</th>\n",
       "      <td>7</td>\n",
       "      <td>our top 3 trade ideas for 2014 and two  1000 f...</td>\n",
       "      <td>positiv</td>\n",
       "      <td>0.400000</td>\n",
       "      <td>22</td>\n",
       "      <td>en</td>\n",
       "      <td>99</td>\n",
       "      <td>22</td>\n",
       "    </tr>\n",
       "    <tr>\n",
       "      <th>8</th>\n",
       "      <td>8</td>\n",
       "      <td>aapl having breathing difficulties.</td>\n",
       "      <td>neutral</td>\n",
       "      <td>0.000000</td>\n",
       "      <td>5</td>\n",
       "      <td>en</td>\n",
       "      <td>37</td>\n",
       "      <td>4</td>\n",
       "    </tr>\n",
       "    <tr>\n",
       "      <th>9</th>\n",
       "      <td>9</td>\n",
       "      <td>emylers : \"cheekys\" board ! :  aapl up to date...</td>\n",
       "      <td>negativ</td>\n",
       "      <td>-0.125000</td>\n",
       "      <td>16</td>\n",
       "      <td>en</td>\n",
       "      <td>82</td>\n",
       "      <td>16</td>\n",
       "    </tr>\n",
       "    <tr>\n",
       "      <th>10</th>\n",
       "      <td>10</td>\n",
       "      <td>aapl blackberry and singer alicia keys to par...</td>\n",
       "      <td>neutral</td>\n",
       "      <td>0.000000</td>\n",
       "      <td>10</td>\n",
       "      <td>en</td>\n",
       "      <td>54</td>\n",
       "      <td>10</td>\n",
       "    </tr>\n",
       "    <tr>\n",
       "      <th>11</th>\n",
       "      <td>11</td>\n",
       "      <td>aapl - chinas xiaomi says to more than double...</td>\n",
       "      <td>positiv</td>\n",
       "      <td>0.250000</td>\n",
       "      <td>17</td>\n",
       "      <td>en</td>\n",
       "      <td>101</td>\n",
       "      <td>17</td>\n",
       "    </tr>\n",
       "    <tr>\n",
       "      <th>12</th>\n",
       "      <td>12</td>\n",
       "      <td>what are your top picks for q1 2014 ? here are...</td>\n",
       "      <td>positiv</td>\n",
       "      <td>0.500000</td>\n",
       "      <td>18</td>\n",
       "      <td>en</td>\n",
       "      <td>81</td>\n",
       "      <td>18</td>\n",
       "    </tr>\n",
       "    <tr>\n",
       "      <th>13</th>\n",
       "      <td>13</td>\n",
       "      <td>aapl us stocks-wall st kicks off new year on ...</td>\n",
       "      <td>positiv</td>\n",
       "      <td>0.136364</td>\n",
       "      <td>12</td>\n",
       "      <td>en</td>\n",
       "      <td>58</td>\n",
       "      <td>12</td>\n",
       "    </tr>\n",
       "    <tr>\n",
       "      <th>14</th>\n",
       "      <td>14</td>\n",
       "      <td>apple gained 8 % in 2013 vs s &amp; \"ps\" 30 % but ...</td>\n",
       "      <td>negativ</td>\n",
       "      <td>-0.175000</td>\n",
       "      <td>28</td>\n",
       "      <td>en</td>\n",
       "      <td>114</td>\n",
       "      <td>28</td>\n",
       "    </tr>\n",
       "    <tr>\n",
       "      <th>15</th>\n",
       "      <td>15</td>\n",
       "      <td>aapl - apple will be the main victim of micro...</td>\n",
       "      <td>positiv</td>\n",
       "      <td>0.045833</td>\n",
       "      <td>19</td>\n",
       "      <td>en</td>\n",
       "      <td>112</td>\n",
       "      <td>19</td>\n",
       "    </tr>\n",
       "    <tr>\n",
       "      <th>16</th>\n",
       "      <td>16</td>\n",
       "      <td>new education : supply / demand zones  accumul...</td>\n",
       "      <td>positiv</td>\n",
       "      <td>0.136364</td>\n",
       "      <td>19</td>\n",
       "      <td>en</td>\n",
       "      <td>120</td>\n",
       "      <td>19</td>\n",
       "    </tr>\n",
       "    <tr>\n",
       "      <th>17</th>\n",
       "      <td>17</td>\n",
       "      <td>i bought a new tv this year . would probably h...</td>\n",
       "      <td>positiv</td>\n",
       "      <td>0.349848</td>\n",
       "      <td>27</td>\n",
       "      <td>en</td>\n",
       "      <td>129</td>\n",
       "      <td>27</td>\n",
       "    </tr>\n",
       "    <tr>\n",
       "      <th>18</th>\n",
       "      <td>19</td>\n",
       "      <td>aapl cleaning the mobile germ warehouse .</td>\n",
       "      <td>neutral</td>\n",
       "      <td>0.000000</td>\n",
       "      <td>7</td>\n",
       "      <td>en</td>\n",
       "      <td>42</td>\n",
       "      <td>7</td>\n",
       "    </tr>\n",
       "    <tr>\n",
       "      <th>19</th>\n",
       "      <td>20</td>\n",
       "      <td>aapl kara swisher and walt mossberg launch re...</td>\n",
       "      <td>neutral</td>\n",
       "      <td>0.000000</td>\n",
       "      <td>11</td>\n",
       "      <td>en</td>\n",
       "      <td>55</td>\n",
       "      <td>11</td>\n",
       "    </tr>\n",
       "    <tr>\n",
       "      <th>20</th>\n",
       "      <td>21</td>\n",
       "      <td>aapl \"lets\" not let the wf downgrade overshad...</td>\n",
       "      <td>positiv</td>\n",
       "      <td>0.357143</td>\n",
       "      <td>20</td>\n",
       "      <td>en</td>\n",
       "      <td>110</td>\n",
       "      <td>20</td>\n",
       "    </tr>\n",
       "    <tr>\n",
       "      <th>21</th>\n",
       "      <td>22</td>\n",
       "      <td>will 2014 be \"apples\" \" year of innovation \" (...</td>\n",
       "      <td>neutral</td>\n",
       "      <td>0.000000</td>\n",
       "      <td>17</td>\n",
       "      <td>en</td>\n",
       "      <td>90</td>\n",
       "      <td>17</td>\n",
       "    </tr>\n",
       "    <tr>\n",
       "      <th>22</th>\n",
       "      <td>23</td>\n",
       "      <td>aapl - pre-market : apple downgraded on margi...</td>\n",
       "      <td>neutral</td>\n",
       "      <td>0.000000</td>\n",
       "      <td>9</td>\n",
       "      <td>en</td>\n",
       "      <td>57</td>\n",
       "      <td>9</td>\n",
       "    </tr>\n",
       "    <tr>\n",
       "      <th>23</th>\n",
       "      <td>24</td>\n",
       "      <td>big \"tunas\" stocks -  aapl daily chart ~ range...</td>\n",
       "      <td>neutral</td>\n",
       "      <td>0.000000</td>\n",
       "      <td>12</td>\n",
       "      <td>en</td>\n",
       "      <td>59</td>\n",
       "      <td>12</td>\n",
       "    </tr>\n",
       "    <tr>\n",
       "      <th>24</th>\n",
       "      <td>25</td>\n",
       "      <td>aapl the zacks analyst blog highlights : appl...</td>\n",
       "      <td>neutral</td>\n",
       "      <td>0.000000</td>\n",
       "      <td>13</td>\n",
       "      <td>en</td>\n",
       "      <td>83</td>\n",
       "      <td>13</td>\n",
       "    </tr>\n",
       "    <tr>\n",
       "      <th>25</th>\n",
       "      <td>26</td>\n",
       "      <td>apple slips  urban outfitters up on analyst ca...</td>\n",
       "      <td>neutral</td>\n",
       "      <td>0.000000</td>\n",
       "      <td>9</td>\n",
       "      <td>en</td>\n",
       "      <td>56</td>\n",
       "      <td>9</td>\n",
       "    </tr>\n",
       "    <tr>\n",
       "      <th>26</th>\n",
       "      <td>27</td>\n",
       "      <td>aapl how is tim cook doing taking over from t...</td>\n",
       "      <td>positiv</td>\n",
       "      <td>1.000000</td>\n",
       "      <td>15</td>\n",
       "      <td>en</td>\n",
       "      <td>73</td>\n",
       "      <td>15</td>\n",
       "    </tr>\n",
       "    <tr>\n",
       "      <th>27</th>\n",
       "      <td>28</td>\n",
       "      <td>this weeks  aapl 550 puts are already up a dol...</td>\n",
       "      <td>neutral</td>\n",
       "      <td>0.000000</td>\n",
       "      <td>12</td>\n",
       "      <td>en</td>\n",
       "      <td>58</td>\n",
       "      <td>12</td>\n",
       "    </tr>\n",
       "    <tr>\n",
       "      <th>28</th>\n",
       "      <td>29</td>\n",
       "      <td>thursday headlines include news on  cpb   nyt ...</td>\n",
       "      <td>neutral</td>\n",
       "      <td>0.000000</td>\n",
       "      <td>12</td>\n",
       "      <td>en</td>\n",
       "      <td>70</td>\n",
       "      <td>12</td>\n",
       "    </tr>\n",
       "    <tr>\n",
       "      <th>29</th>\n",
       "      <td>30</td>\n",
       "      <td>the five-year-old ipad : when will people stop...</td>\n",
       "      <td>neutral</td>\n",
       "      <td>0.000000</td>\n",
       "      <td>16</td>\n",
       "      <td>en</td>\n",
       "      <td>92</td>\n",
       "      <td>16</td>\n",
       "    </tr>\n",
       "    <tr>\n",
       "      <th>30</th>\n",
       "      <td>31</td>\n",
       "      <td>aapl was below this level two weeks ago  and ...</td>\n",
       "      <td>neutral</td>\n",
       "      <td>0.000000</td>\n",
       "      <td>29</td>\n",
       "      <td>en</td>\n",
       "      <td>139</td>\n",
       "      <td>29</td>\n",
       "    </tr>\n",
       "    <tr>\n",
       "      <th>31</th>\n",
       "      <td>32</td>\n",
       "      <td>aapl apple sale : best buy temporarily cuts i...</td>\n",
       "      <td>positiv</td>\n",
       "      <td>1.000000</td>\n",
       "      <td>12</td>\n",
       "      <td>en</td>\n",
       "      <td>62</td>\n",
       "      <td>12</td>\n",
       "    </tr>\n",
       "    <tr>\n",
       "      <th>32</th>\n",
       "      <td>33</td>\n",
       "      <td>also added  aapl common here w 541 stop.</td>\n",
       "      <td>negativ</td>\n",
       "      <td>-0.300000</td>\n",
       "      <td>8</td>\n",
       "      <td>en</td>\n",
       "      <td>40</td>\n",
       "      <td>8</td>\n",
       "    </tr>\n",
       "    <tr>\n",
       "      <th>33</th>\n",
       "      <td>34</td>\n",
       "      <td>\"googles\" dirty secret : android phones are ba...</td>\n",
       "      <td>negativ</td>\n",
       "      <td>-0.500000</td>\n",
       "      <td>15</td>\n",
       "      <td>en</td>\n",
       "      <td>89</td>\n",
       "      <td>15</td>\n",
       "    </tr>\n",
       "    <tr>\n",
       "      <th>34</th>\n",
       "      <td>35</td>\n",
       "      <td>bbry  aapl blackberry files suit against typo...</td>\n",
       "      <td>positiv</td>\n",
       "      <td>0.350000</td>\n",
       "      <td>11</td>\n",
       "      <td>en</td>\n",
       "      <td>61</td>\n",
       "      <td>11</td>\n",
       "    </tr>\n",
       "    <tr>\n",
       "      <th>35</th>\n",
       "      <td>36</td>\n",
       "      <td>hmm not so much for  aapl .. we got this doubl...</td>\n",
       "      <td>positiv</td>\n",
       "      <td>0.233333</td>\n",
       "      <td>17</td>\n",
       "      <td>en</td>\n",
       "      <td>75</td>\n",
       "      <td>17</td>\n",
       "    </tr>\n",
       "    <tr>\n",
       "      <th>36</th>\n",
       "      <td>37</td>\n",
       "      <td>what i like about  aapl long term is its ~ 9....</td>\n",
       "      <td>negativ</td>\n",
       "      <td>-0.025000</td>\n",
       "      <td>26</td>\n",
       "      <td>en</td>\n",
       "      <td>110</td>\n",
       "      <td>25</td>\n",
       "    </tr>\n",
       "    <tr>\n",
       "      <th>37</th>\n",
       "      <td>38</td>\n",
       "      <td>aapl is soooo pathetic . one has to wonder if...</td>\n",
       "      <td>negativ</td>\n",
       "      <td>-1.000000</td>\n",
       "      <td>18</td>\n",
       "      <td>en</td>\n",
       "      <td>82</td>\n",
       "      <td>18</td>\n",
       "    </tr>\n",
       "    <tr>\n",
       "      <th>38</th>\n",
       "      <td>39</td>\n",
       "      <td>50 % of trades in  aapl today are for less tha...</td>\n",
       "      <td>negativ</td>\n",
       "      <td>-0.166667</td>\n",
       "      <td>14</td>\n",
       "      <td>en</td>\n",
       "      <td>67</td>\n",
       "      <td>14</td>\n",
       "    </tr>\n",
       "    <tr>\n",
       "      <th>39</th>\n",
       "      <td>40</td>\n",
       "      <td>the good support for  aapl today is 541.02 .</td>\n",
       "      <td>positiv</td>\n",
       "      <td>0.700000</td>\n",
       "      <td>9</td>\n",
       "      <td>en</td>\n",
       "      <td>44</td>\n",
       "      <td>9</td>\n",
       "    </tr>\n",
       "    <tr>\n",
       "      <th>40</th>\n",
       "      <td>41</td>\n",
       "      <td>bloggers trading  aapl stupid again nsa  malic...</td>\n",
       "      <td>negativ</td>\n",
       "      <td>-0.400000</td>\n",
       "      <td>25</td>\n",
       "      <td>en</td>\n",
       "      <td>141</td>\n",
       "      <td>25</td>\n",
       "    </tr>\n",
       "    <tr>\n",
       "      <th>41</th>\n",
       "      <td>42</td>\n",
       "      <td>aapl new lows .. still holding half lotto 542...</td>\n",
       "      <td>negativ</td>\n",
       "      <td>-0.015152</td>\n",
       "      <td>10</td>\n",
       "      <td>en</td>\n",
       "      <td>55</td>\n",
       "      <td>10</td>\n",
       "    </tr>\n",
       "    <tr>\n",
       "      <th>42</th>\n",
       "      <td>43</td>\n",
       "      <td>best position today :  gld ( non-core long ) w...</td>\n",
       "      <td>negativ</td>\n",
       "      <td>-0.016667</td>\n",
       "      <td>17</td>\n",
       "      <td>en</td>\n",
       "      <td>90</td>\n",
       "      <td>17</td>\n",
       "    </tr>\n",
       "    <tr>\n",
       "      <th>43</th>\n",
       "      <td>44</td>\n",
       "      <td>overall market vix is down . 35 % where as  aa...</td>\n",
       "      <td>negativ</td>\n",
       "      <td>-0.135185</td>\n",
       "      <td>33</td>\n",
       "      <td>en</td>\n",
       "      <td>146</td>\n",
       "      <td>33</td>\n",
       "    </tr>\n",
       "    <tr>\n",
       "      <th>44</th>\n",
       "      <td>45</td>\n",
       "      <td>aapl blackberry sues ryan \"seacrests\" company...</td>\n",
       "      <td>neutral</td>\n",
       "      <td>0.000000</td>\n",
       "      <td>10</td>\n",
       "      <td>en</td>\n",
       "      <td>69</td>\n",
       "      <td>10</td>\n",
       "    </tr>\n",
       "    <tr>\n",
       "      <th>45</th>\n",
       "      <td>46</td>\n",
       "      <td>aapl - online retail sales up in q4 -&gt;  stock...</td>\n",
       "      <td>neutral</td>\n",
       "      <td>0.000000</td>\n",
       "      <td>12</td>\n",
       "      <td>en</td>\n",
       "      <td>66</td>\n",
       "      <td>12</td>\n",
       "    </tr>\n",
       "    <tr>\n",
       "      <th>46</th>\n",
       "      <td>47</td>\n",
       "      <td>aapl - boeing contract with machinists - deta...</td>\n",
       "      <td>neutral</td>\n",
       "      <td>0.000000</td>\n",
       "      <td>14</td>\n",
       "      <td>en</td>\n",
       "      <td>92</td>\n",
       "      <td>14</td>\n",
       "    </tr>\n",
       "    <tr>\n",
       "      <th>47</th>\n",
       "      <td>48</td>\n",
       "      <td>claytrader : * *  aapl video chart 1/3 / 14 * ...</td>\n",
       "      <td>neutral</td>\n",
       "      <td>0.000000</td>\n",
       "      <td>15</td>\n",
       "      <td>en</td>\n",
       "      <td>62</td>\n",
       "      <td>15</td>\n",
       "    </tr>\n",
       "    <tr>\n",
       "      <th>48</th>\n",
       "      <td>49</td>\n",
       "      <td>january 3  1977 “ steve jobs and steve wozniak...</td>\n",
       "      <td>neutral</td>\n",
       "      <td>0.000000</td>\n",
       "      <td>15</td>\n",
       "      <td>en</td>\n",
       "      <td>91</td>\n",
       "      <td>15</td>\n",
       "    </tr>\n",
       "    <tr>\n",
       "      <th>49</th>\n",
       "      <td>50</td>\n",
       "      <td>apple iwatch reportedly already in production ...</td>\n",
       "      <td>neutral</td>\n",
       "      <td>0.000000</td>\n",
       "      <td>12</td>\n",
       "      <td>en</td>\n",
       "      <td>82</td>\n",
       "      <td>12</td>\n",
       "    </tr>\n",
       "  </tbody>\n",
       "</table>\n",
       "</div>"
      ],
      "text/plain": [
       "    Unnamed: 0                                               text sentiment  \\\n",
       "0            0  summary of \"yesterdays\" webcast featuring  aap...   neutral   \n",
       "1            1                 itv will boost apple   aapl apple.   neutral   \n",
       "2            2  iphone users are more intelligent than samsung...   positiv   \n",
       "3            3  2013 wrap-up and trading set review - part iii...   neutral   \n",
       "4            4            apple screwed up big time   amzn  aapl.   neutral   \n",
       "5            5   aapl - wall st . kicks off new year on lower ...   positiv   \n",
       "6            6  \"heres\" how apple could be making a huge push ...   positiv   \n",
       "7            7  our top 3 trade ideas for 2014 and two  1000 f...   positiv   \n",
       "8            8                aapl having breathing difficulties.   neutral   \n",
       "9            9  emylers : \"cheekys\" board ! :  aapl up to date...   negativ   \n",
       "10          10   aapl blackberry and singer alicia keys to par...   neutral   \n",
       "11          11   aapl - chinas xiaomi says to more than double...   positiv   \n",
       "12          12  what are your top picks for q1 2014 ? here are...   positiv   \n",
       "13          13   aapl us stocks-wall st kicks off new year on ...   positiv   \n",
       "14          14  apple gained 8 % in 2013 vs s & \"ps\" 30 % but ...   negativ   \n",
       "15          15   aapl - apple will be the main victim of micro...   positiv   \n",
       "16          16  new education : supply / demand zones  accumul...   positiv   \n",
       "17          17  i bought a new tv this year . would probably h...   positiv   \n",
       "18          19          aapl cleaning the mobile germ warehouse .   neutral   \n",
       "19          20   aapl kara swisher and walt mossberg launch re...   neutral   \n",
       "20          21   aapl \"lets\" not let the wf downgrade overshad...   positiv   \n",
       "21          22  will 2014 be \"apples\" \" year of innovation \" (...   neutral   \n",
       "22          23   aapl - pre-market : apple downgraded on margi...   neutral   \n",
       "23          24  big \"tunas\" stocks -  aapl daily chart ~ range...   neutral   \n",
       "24          25   aapl the zacks analyst blog highlights : appl...   neutral   \n",
       "25          26  apple slips  urban outfitters up on analyst ca...   neutral   \n",
       "26          27   aapl how is tim cook doing taking over from t...   positiv   \n",
       "27          28  this weeks  aapl 550 puts are already up a dol...   neutral   \n",
       "28          29  thursday headlines include news on  cpb   nyt ...   neutral   \n",
       "29          30  the five-year-old ipad : when will people stop...   neutral   \n",
       "30          31   aapl was below this level two weeks ago  and ...   neutral   \n",
       "31          32   aapl apple sale : best buy temporarily cuts i...   positiv   \n",
       "32          33           also added  aapl common here w 541 stop.   negativ   \n",
       "33          34  \"googles\" dirty secret : android phones are ba...   negativ   \n",
       "34          35   bbry  aapl blackberry files suit against typo...   positiv   \n",
       "35          36  hmm not so much for  aapl .. we got this doubl...   positiv   \n",
       "36          37   what i like about  aapl long term is its ~ 9....   negativ   \n",
       "37          38   aapl is soooo pathetic . one has to wonder if...   negativ   \n",
       "38          39  50 % of trades in  aapl today are for less tha...   negativ   \n",
       "39          40       the good support for  aapl today is 541.02 .   positiv   \n",
       "40          41  bloggers trading  aapl stupid again nsa  malic...   negativ   \n",
       "41          42   aapl new lows .. still holding half lotto 542...   negativ   \n",
       "42          43  best position today :  gld ( non-core long ) w...   negativ   \n",
       "43          44  overall market vix is down . 35 % where as  aa...   negativ   \n",
       "44          45   aapl blackberry sues ryan \"seacrests\" company...   neutral   \n",
       "45          46   aapl - online retail sales up in q4 ->  stock...   neutral   \n",
       "46          47   aapl - boeing contract with machinists - deta...   neutral   \n",
       "47          48  claytrader : * *  aapl video chart 1/3 / 14 * ...   neutral   \n",
       "48          49  january 3  1977 “ steve jobs and steve wozniak...   neutral   \n",
       "49          50  apple iwatch reportedly already in production ...   neutral   \n",
       "\n",
       "       score  Wortzählung Sprache  tweet_length  text_len  \n",
       "0   0.000000           15      en           112        15  \n",
       "1   0.000000            6      en            34         6  \n",
       "2   0.650000           14      en            89        14  \n",
       "3   0.000000           21      en           112        21  \n",
       "4   0.000000            7      en            39         7  \n",
       "5   0.136364           16      en            80        16  \n",
       "6   0.400000           13      en            73        13  \n",
       "7   0.400000           22      en            99        22  \n",
       "8   0.000000            5      en            37         4  \n",
       "9  -0.125000           16      en            82        16  \n",
       "10  0.000000           10      en            54        10  \n",
       "11  0.250000           17      en           101        17  \n",
       "12  0.500000           18      en            81        18  \n",
       "13  0.136364           12      en            58        12  \n",
       "14 -0.175000           28      en           114        28  \n",
       "15  0.045833           19      en           112        19  \n",
       "16  0.136364           19      en           120        19  \n",
       "17  0.349848           27      en           129        27  \n",
       "18  0.000000            7      en            42         7  \n",
       "19  0.000000           11      en            55        11  \n",
       "20  0.357143           20      en           110        20  \n",
       "21  0.000000           17      en            90        17  \n",
       "22  0.000000            9      en            57         9  \n",
       "23  0.000000           12      en            59        12  \n",
       "24  0.000000           13      en            83        13  \n",
       "25  0.000000            9      en            56         9  \n",
       "26  1.000000           15      en            73        15  \n",
       "27  0.000000           12      en            58        12  \n",
       "28  0.000000           12      en            70        12  \n",
       "29  0.000000           16      en            92        16  \n",
       "30  0.000000           29      en           139        29  \n",
       "31  1.000000           12      en            62        12  \n",
       "32 -0.300000            8      en            40         8  \n",
       "33 -0.500000           15      en            89        15  \n",
       "34  0.350000           11      en            61        11  \n",
       "35  0.233333           17      en            75        17  \n",
       "36 -0.025000           26      en           110        25  \n",
       "37 -1.000000           18      en            82        18  \n",
       "38 -0.166667           14      en            67        14  \n",
       "39  0.700000            9      en            44         9  \n",
       "40 -0.400000           25      en           141        25  \n",
       "41 -0.015152           10      en            55        10  \n",
       "42 -0.016667           17      en            90        17  \n",
       "43 -0.135185           33      en           146        33  \n",
       "44  0.000000           10      en            69        10  \n",
       "45  0.000000           12      en            66        12  \n",
       "46  0.000000           14      en            92        14  \n",
       "47  0.000000           15      en            62        15  \n",
       "48  0.000000           15      en            91        15  \n",
       "49  0.000000           12      en            82        12  "
      ]
     },
     "execution_count": 339,
     "metadata": {},
     "output_type": "execute_result"
    }
   ],
   "source": [
    "df.head(50)"
   ]
  },
  {
   "cell_type": "code",
   "execution_count": 340,
   "metadata": {},
   "outputs": [
    {
     "data": {
      "text/plain": [
       "9087           aapl low.\n",
       "14045       amzn trying.\n",
       "15582     almost forgot \n",
       "15618       amzn please.\n",
       "18434       h-p   rally \n",
       "24280     intc rofl-ing.\n",
       "24592             intc .\n",
       "26266     twitter lower \n",
       "26320         fb bounce.\n",
       "33943             orcl .\n",
       "40364       @Tesla Great\n",
       "40365        @Tesla Cool\n",
       "56037      Worth reading\n",
       "56640       $ADBE strong\n",
       "Name: text, dtype: object"
      ]
     },
     "execution_count": 340,
     "metadata": {},
     "output_type": "execute_result"
    }
   ],
   "source": [
    "df[df[\"text_len\"]==2][\"text\"]"
   ]
  },
  {
   "cell_type": "code",
   "execution_count": 341,
   "metadata": {},
   "outputs": [
    {
     "data": {
      "text/plain": [
       "8                  aapl having breathing difficulties.\n",
       "123                            aapl right on schedule \n",
       "162                        aapl  twtr flighttosafety .\n",
       "477                        stocks open quietly higher \n",
       "618                               active calls @ cboe \n",
       "1406                                 aapl short term .\n",
       "2514                   thinking android is consistent \n",
       "3036                      trading  spy contracts live \n",
       "3171                         high uncertainty :  aapl.\n",
       "3892                               nice move on  aapl.\n",
       "4128                              aapl lottos now itm.\n",
       "4230                               active puts @ cboe \n",
       "4458                             aapl bring the noise.\n",
       "4665                               active puts @ cboe \n",
       "4820                        gotta be protection  aapl.\n",
       "5229                           aapl saving the market.\n",
       "5308                              active calls @ cboe \n",
       "5343                                   aapl shorts . .\n",
       "5985                           aapl ripping heads off.\n",
       "6372                             aapl core holding :).\n",
       "6553                 the evolving notification   aapl.\n",
       "6862                        aapl daily selloff begins.\n",
       "7012                              dow bites the  aapl.\n",
       "7091                          apple sets watch prices \n",
       "7216                                aapl this is prad.\n",
       "7406                       aapl 127.65 key resistance.\n",
       "7514                             called it ...   aapl.\n",
       "7707                \"ill\" pick  aapl fastmoneymadness.\n",
       "8118                            swingin \"\" with  aapl.\n",
       "8628                           stopped out  aapl mehh.\n",
       "9172                           long  aapl short  yhoo.\n",
       "10356                            short  aapl @ 111.01.\n",
       "10778                         apple gets bullish call \n",
       "11541                             clicking for  aapl .\n",
       "12058              readthechart : allstarcharts  aapl.\n",
       "14632                                amzn to the moon.\n",
       "14881                           amzn wants those 430s.\n",
       "15776                             all out  amzn +1.92.\n",
       "16323                             mcox be early  baba.\n",
       "16478                              rock me baby  baba.\n",
       "16585                            baba new lows coming.\n",
       "16596                            baba over  87.50 now.\n",
       "16706                            posted earlier on fb \n",
       "16741                           cuban dissin on  baba.\n",
       "16851                     baba gettin demolished here.\n",
       "17539           analysts defend alibaba post-earnings \n",
       "19649                                     she my l  d.\n",
       "19722                                     she on l  d.\n",
       "20529                          goog > destroyed again.\n",
       "20826                    google stock forecast   goog.\n",
       "21771                         the singularity .  goog.\n",
       "22007               hackathons helped facebook evolve \n",
       "22072                            totally agree  goog .\n",
       "22243                               check this  goog .\n",
       "23924                          intc should lift techs.\n",
       "24194                         intc mirroring the  spx.\n",
       "24573                            intc isnt buying  mu.\n",
       "24667                               intel long  intc .\n",
       "25058                         why sodastream is cheap \n",
       "25105                           ko asia shares higher \n",
       "26003                     merry thotking  ma  flexmas.\n",
       "26242                              fb a monster today.\n",
       "26259                              fb another new hod.\n",
       "26350                                fb buying here ..\n",
       "26876                            fb trying to recover.\n",
       "27157                             active calls @ cboe \n",
       "27811                              fb closing strong .\n",
       "28059                           just shorted  fb here.\n",
       "28397                                fb paying well ..\n",
       "28548                           knowing is not enough \n",
       "28724                              i bought  fb calls.\n",
       "28936                                  fb chart  via .\n",
       "29024                      facebook weighs on futures \n",
       "29165                           fb  updating this one.\n",
       "29220                               fb crack a lackin.\n",
       "29273                              fb all-time high !.\n",
       "29502                                    80 pt on  fb.\n",
       "29636                                     fb bs time .\n",
       "29706                              fb eps rising  cml.\n",
       "29813                               fb off a cliffski.\n",
       "30334                             riding the  fb wave.\n",
       "30335               facebook monetizing whatsapp   fb.\n",
       "30741                                  fb at the lows.\n",
       "31787                                 fb \"cant\" wait .\n",
       "32046                              msft short @ 39.67.\n",
       "32049                      congrats on  msft straddle.\n",
       "32052                            msft strong two days.\n",
       "32418                         msft very nice reversal.\n",
       "32702                               i think its  msft.\n",
       "32913                        msft doldrums explained .\n",
       "32924                     look into  overvalued  msft.\n",
       "33237                       msft numbers look amazing.\n",
       "33470                           bull flow  msft  orcl.\n",
       "33602                            orcl coiled spring ?.\n",
       "33918                  oracle earnings preview   orcl.\n",
       "34198                                  pep or  coke ?.\n",
       "34201                                in  pep and  xom.\n",
       "34871                              v closes so weakly.\n",
       "35011                     v gapfill country weeeeeeee.\n",
       "35369                   shocking   wmt blames weather.\n",
       "35786                          wmt revenue expanding .\n",
       "36592                  @HourADayGamer Tesla is amazing\n",
       "36605                          Tesla down 6% already  \n",
       "36706                    @Falconwingsnj @Tesla Great 💕\n",
       "37723                    @mitchlafon Tesla- Hang Tough\n",
       "37829                @elonmusk Happy Tesla’s birthday!\n",
       "38757               @Falconwingsnj @Tesla Extremely 🔥🔥\n",
       "39149                @thyAshes @Tesla Incredible car!!\n",
       "39874                               Tesla is the best!\n",
       "39990                  @Falconwingsnj @Tesla Love It!)\n",
       "40243                       @omg_tesla YOU ARE WELCOME\n",
       "40324                             It's a Tesla's game?\n",
       "40425    @WHATULOOKIN__AT @TESLA_is_FUTURE Thanks mate\n",
       "40506          @TheBlakeCheck @teslabros @Tesla Nice..\n",
       "40902                               Is Tesla for real?\n",
       "41812             Materion Celebrates Webb Success    \n",
       "42993                         $TSLA earnings live 👇   \n",
       "44890                    @resilience168 great to hear!\n",
       "44900                 @demondaytrader exactly my point\n",
       "44949                @itzstockchartz Thanks.  You too.\n",
       "46710                   European markets open higher  \n",
       "46953                 INSIGHT2PROFIT Hires New CEO    \n",
       "47745               $OPTNX: Unusual Options Activity  \n",
       "47749                 $OPTNX: Early Options Activity  \n",
       "47755                 $OPTNX: Early Options Activity  \n",
       "47760               $OPTNX: Unusual Options Activity  \n",
       "47767               $OPTNX: Unusual Options Activity  \n",
       "47770                 $OPTNX: Early Options Activity  \n",
       "47776               $OPTNX: Unusual Options Activity  \n",
       "47778                 $OPTNX: Early Options Activity  \n",
       "47787               $OPTNX: Unusual Options Activity  \n",
       "47788                 $OPTNX: Early Options Activity  \n",
       "47941                        $SHW working strong early\n",
       "48001                         Impressive rally on $C  \n",
       "48003                               $TBLT active in AH\n",
       "48142                        Strong move here  $AFRM  \n",
       "49553                        Hot #Stocks Analysis &amp\n",
       "49924                                 The 5 Best S&amp\n",
       "50416                          How Many Helmerich &amp\n",
       "50420                             Tech action by S&amp\n",
       "51021                        Technical action by S&amp\n",
       "51175                             Richard C Young &amp\n",
       "51233                         $UA closing strong today\n",
       "51826                             Black Ridge Oil &amp\n",
       "51934                             $tjx High and tight \n",
       "52234               @smartmoneyact: Notable sales &amp\n",
       "52450                          Will Stanley Black &amp\n",
       "52678                          $SWK Stanley Black &amp\n",
       "53829                         @KymLang $fl looks ready\n",
       "54149                          $INTU hitting new highs\n",
       "54828                         $MOMO Daily  Sexy time! \n",
       "56029                   $aaoi  Missing something here?\n",
       "56235                            $fl looks ready here.\n",
       "56238                           More glass. LONG $GLW \n",
       "56319                            $ADBE setting up nice\n",
       "56464                           Higher high $jpm $wfc \n",
       "56485                            $SRPT slow death ðŸ’©\n",
       "56687                                The 5 Worst S&amp\n",
       "56910                             The five worst S&amp\n",
       "56968                              $ADBE new ATH here.\n",
       "57018                         Could Stanley Black &amp\n",
       "57280                       $NTNX double top breakout \n",
       "57835                           $ebay short more 37.30\n",
       "57866                            Nice inside day $BIDU\n",
       "58236                   Good read    $ETN #Electroneum\n",
       "59074                         bring this down!!!! $SPX\n",
       "59243                  ðŸ¤”Long Pitchforks? $HD $LOW\\n\n",
       "59465                   $DIS looking heavy here...... \n",
       "59479                               Out $FB small gain\n",
       "59660                             $AAPL flat $MSFT red\n",
       "59673                        $SPY $SPX Economy fucked \n",
       "59727                 $AMZN surprisingly slow... weird\n",
       "60632                         Slow clap. $AAPL $GOOG  \n",
       "61195                             @wmd4x You mean $SPX\n",
       "62943                           $AAPL pushing hard now\n",
       "62944                         $AAPL easy fucking money\n",
       "63313                              $AAPL red to green.\n",
       "63332                            Dumped $MSFT for flat\n",
       "64597                          $DIS calls closed 4.66 \n",
       "64639                           $SPX call closed 6.32 \n",
       "64836                            Short $FB. Tight stop\n",
       "64882                               Sold half of $AMZN\n",
       "64994                            $MSFT late May calls \n",
       "65146                              $FB update down -3%\n",
       "65203                         $JPM has turned negative\n",
       "66194                   @disneyplus Disney $DIS sucks!\n",
       "66320                       $JPM finished poorly today\n",
       "66460                           $FB almost green, shew\n",
       "67012                               $AMZN red to green\n",
       "67418                          $BAC down 3% pre-market\n",
       "68676                              $spx failed at 2800\n",
       "68726                         In other news, $AMZN... \n",
       "68794                           Another 2800 $SPX fail\n",
       "68861                           Trouble ahead for $T? \n",
       "69023                         $AAPL green to red......\n",
       "70157                        Dead cat bounce?\\n#SP500 \n",
       "70222                        @Fxhedgers: $AAPL down $7\n",
       "70310                           $INTC 60.60 LONG $AMD \n",
       "70313                  $aapl tight 30min consolidation\n",
       "70440                            $AAPL still weak here\n",
       "70612                                 Long $V and $MA \n",
       "70649                        $AAPL puts working slowly\n",
       "70892                   @Matt_Cochrane7 Long $JPM also\n",
       "Name: text, dtype: object"
      ]
     },
     "execution_count": 341,
     "metadata": {},
     "output_type": "execute_result"
    }
   ],
   "source": [
    "df[df[\"text_len\"]==4][\"text\"]"
   ]
  },
  {
   "cell_type": "code",
   "execution_count": 342,
   "metadata": {},
   "outputs": [],
   "source": [
    "df= df[df[\"text_len\"]>4]"
   ]
  },
  {
   "cell_type": "code",
   "execution_count": 343,
   "metadata": {},
   "outputs": [
    {
     "name": "stdout",
     "output_type": "stream",
     "text": [
      "<class 'pandas.core.frame.DataFrame'>\n",
      "Index: 71365 entries, 0 to 71679\n",
      "Data columns (total 8 columns):\n",
      " #   Column        Non-Null Count  Dtype  \n",
      "---  ------        --------------  -----  \n",
      " 0   Unnamed: 0    71365 non-null  int64  \n",
      " 1   text          71365 non-null  object \n",
      " 2   sentiment     71365 non-null  object \n",
      " 3   score         71365 non-null  float64\n",
      " 4   Wortzählung   71365 non-null  int64  \n",
      " 5   Sprache       71365 non-null  object \n",
      " 6   tweet_length  71365 non-null  int64  \n",
      " 7   text_len      71365 non-null  int64  \n",
      "dtypes: float64(1), int64(4), object(3)\n",
      "memory usage: 4.9+ MB\n"
     ]
    }
   ],
   "source": [
    "df.info()"
   ]
  },
  {
   "cell_type": "code",
   "execution_count": 344,
   "metadata": {},
   "outputs": [
    {
     "name": "stdout",
     "output_type": "stream",
     "text": [
      "    Anzahl der Wörter  Anzahl der Tweets\n",
      "41                  5                259\n",
      "26                  6                521\n",
      "21                  7                793\n",
      "17                  8               1231\n",
      "14                  9               2146\n",
      "8                  10               3420\n",
      "5                  11               3900\n",
      "1                  12               4931\n",
      "0                  13               5272\n",
      "2                  14               4833\n",
      "3                  15               4142\n",
      "4                  16               4034\n",
      "6                  17               3836\n",
      "7                  18               3472\n",
      "9                  19               3090\n",
      "10                 20               2882\n",
      "11                 21               2511\n",
      "12                 22               2278\n",
      "13                 23               2160\n",
      "15                 24               1787\n",
      "16                 25               1489\n",
      "18                 26               1206\n",
      "19                 27               1105\n",
      "20                 28                909\n",
      "22                 29                733\n",
      "23                 30                644\n",
      "24                 31                553\n",
      "25                 32                536\n",
      "27                 33                453\n",
      "28                 34                406\n",
      "32                 35                347\n",
      "30                 36                377\n",
      "29                 37                394\n",
      "31                 38                363\n",
      "35                 39                342\n",
      "37                 40                333\n",
      "33                 41                346\n",
      "34                 42                344\n",
      "36                 43                336\n",
      "38                 44                314\n",
      "43                 45                252\n",
      "40                 46                264\n",
      "39                 47                270\n",
      "44                 48                223\n",
      "42                 49                258\n",
      "45                 50                220\n",
      "46                 51                178\n",
      "48                 52                136\n",
      "47                 53                136\n",
      "49                 54                103\n",
      "50                 55                 88\n",
      "51                 56                 62\n",
      "52                 57                 48\n",
      "55                 58                 21\n",
      "53                 59                 24\n",
      "54                 60                 21\n",
      "56                 61                 12\n",
      "57                 62                  6\n",
      "59                 63                  2\n",
      "60                 64                  2\n",
      "58                 65                  5\n",
      "65                 66                  1\n",
      "62                 67                  1\n",
      "64                 68                  1\n",
      "66                 70                  1\n",
      "61                 72                  1\n",
      "63                 73                  1\n"
     ]
    }
   ],
   "source": [
    "word_count_distribution = df['Wortzählung'].value_counts().reset_index()\n",
    "\n",
    "# Benenne die Spalten um\n",
    "word_count_distribution.columns = ['Anzahl der Wörter', 'Anzahl der Tweets']\n",
    "\n",
    "# Sortiere den DataFrame nach der Anzahl der Wörter\n",
    "word_count_distribution = word_count_distribution.sort_values(by='Anzahl der Wörter')\n",
    "\n",
    "# Zeige das Ergebnis\n",
    "print(word_count_distribution)\n",
    "word_count_distribution.to_excel('word_count_distribution.xlsx', index=False)"
   ]
  },
  {
   "cell_type": "code",
   "execution_count": 345,
   "metadata": {},
   "outputs": [
    {
     "data": {
      "text/html": [
       "<div>\n",
       "<style scoped>\n",
       "    .dataframe tbody tr th:only-of-type {\n",
       "        vertical-align: middle;\n",
       "    }\n",
       "\n",
       "    .dataframe tbody tr th {\n",
       "        vertical-align: top;\n",
       "    }\n",
       "\n",
       "    .dataframe thead th {\n",
       "        text-align: right;\n",
       "    }\n",
       "</style>\n",
       "<table border=\"1\" class=\"dataframe\">\n",
       "  <thead>\n",
       "    <tr style=\"text-align: right;\">\n",
       "      <th></th>\n",
       "      <th>Unnamed: 0</th>\n",
       "      <th>text</th>\n",
       "      <th>sentiment</th>\n",
       "      <th>score</th>\n",
       "      <th>Wortzählung</th>\n",
       "      <th>Sprache</th>\n",
       "      <th>tweet_length</th>\n",
       "      <th>text_len</th>\n",
       "    </tr>\n",
       "  </thead>\n",
       "  <tbody>\n",
       "    <tr>\n",
       "      <th>0</th>\n",
       "      <td>0</td>\n",
       "      <td>summary of \"yesterdays\" webcast featuring  aap...</td>\n",
       "      <td>neutral</td>\n",
       "      <td>0.000000</td>\n",
       "      <td>15</td>\n",
       "      <td>en</td>\n",
       "      <td>112</td>\n",
       "      <td>15</td>\n",
       "    </tr>\n",
       "    <tr>\n",
       "      <th>1</th>\n",
       "      <td>1</td>\n",
       "      <td>itv will boost apple   aapl apple.</td>\n",
       "      <td>neutral</td>\n",
       "      <td>0.000000</td>\n",
       "      <td>6</td>\n",
       "      <td>en</td>\n",
       "      <td>34</td>\n",
       "      <td>6</td>\n",
       "    </tr>\n",
       "    <tr>\n",
       "      <th>2</th>\n",
       "      <td>2</td>\n",
       "      <td>iphone users are more intelligent than samsung...</td>\n",
       "      <td>positiv</td>\n",
       "      <td>0.650000</td>\n",
       "      <td>14</td>\n",
       "      <td>en</td>\n",
       "      <td>89</td>\n",
       "      <td>14</td>\n",
       "    </tr>\n",
       "    <tr>\n",
       "      <th>3</th>\n",
       "      <td>3</td>\n",
       "      <td>2013 wrap-up and trading set review - part iii...</td>\n",
       "      <td>neutral</td>\n",
       "      <td>0.000000</td>\n",
       "      <td>21</td>\n",
       "      <td>en</td>\n",
       "      <td>112</td>\n",
       "      <td>21</td>\n",
       "    </tr>\n",
       "    <tr>\n",
       "      <th>4</th>\n",
       "      <td>4</td>\n",
       "      <td>apple screwed up big time   amzn  aapl.</td>\n",
       "      <td>neutral</td>\n",
       "      <td>0.000000</td>\n",
       "      <td>7</td>\n",
       "      <td>en</td>\n",
       "      <td>39</td>\n",
       "      <td>7</td>\n",
       "    </tr>\n",
       "    <tr>\n",
       "      <th>...</th>\n",
       "      <td>...</td>\n",
       "      <td>...</td>\n",
       "      <td>...</td>\n",
       "      <td>...</td>\n",
       "      <td>...</td>\n",
       "      <td>...</td>\n",
       "      <td>...</td>\n",
       "      <td>...</td>\n",
       "    </tr>\n",
       "    <tr>\n",
       "      <th>71675</th>\n",
       "      <td>18121</td>\n",
       "      <td>Federal Realty Investment Trust $F Short Inter...</td>\n",
       "      <td>negativ</td>\n",
       "      <td>-0.077778</td>\n",
       "      <td>13</td>\n",
       "      <td>en</td>\n",
       "      <td>78</td>\n",
       "      <td>12</td>\n",
       "    </tr>\n",
       "    <tr>\n",
       "      <th>71676</th>\n",
       "      <td>18122</td>\n",
       "      <td>Microchip Technology Inc. $MCHP Short Interest...</td>\n",
       "      <td>negativ</td>\n",
       "      <td>-0.077778</td>\n",
       "      <td>12</td>\n",
       "      <td>en</td>\n",
       "      <td>75</td>\n",
       "      <td>11</td>\n",
       "    </tr>\n",
       "    <tr>\n",
       "      <th>71677</th>\n",
       "      <td>18123</td>\n",
       "      <td>MicroStrategy Incorporated $MSTR Short Interes...</td>\n",
       "      <td>negativ</td>\n",
       "      <td>-0.077778</td>\n",
       "      <td>11</td>\n",
       "      <td>en</td>\n",
       "      <td>76</td>\n",
       "      <td>10</td>\n",
       "    </tr>\n",
       "    <tr>\n",
       "      <th>71678</th>\n",
       "      <td>18124</td>\n",
       "      <td>Monster Beverage Corp $MNST Short Interest Dow...</td>\n",
       "      <td>negativ</td>\n",
       "      <td>-0.077778</td>\n",
       "      <td>12</td>\n",
       "      <td>en</td>\n",
       "      <td>71</td>\n",
       "      <td>11</td>\n",
       "    </tr>\n",
       "    <tr>\n",
       "      <th>71679</th>\n",
       "      <td>18125</td>\n",
       "      <td>Tesla - Daily\\n#SP500 \\nShort Term: $660 / $76...</td>\n",
       "      <td>negativ</td>\n",
       "      <td>-0.006250</td>\n",
       "      <td>46</td>\n",
       "      <td>en</td>\n",
       "      <td>266</td>\n",
       "      <td>46</td>\n",
       "    </tr>\n",
       "  </tbody>\n",
       "</table>\n",
       "<p>71365 rows × 8 columns</p>\n",
       "</div>"
      ],
      "text/plain": [
       "       Unnamed: 0                                               text  \\\n",
       "0               0  summary of \"yesterdays\" webcast featuring  aap...   \n",
       "1               1                 itv will boost apple   aapl apple.   \n",
       "2               2  iphone users are more intelligent than samsung...   \n",
       "3               3  2013 wrap-up and trading set review - part iii...   \n",
       "4               4            apple screwed up big time   amzn  aapl.   \n",
       "...           ...                                                ...   \n",
       "71675       18121  Federal Realty Investment Trust $F Short Inter...   \n",
       "71676       18122  Microchip Technology Inc. $MCHP Short Interest...   \n",
       "71677       18123  MicroStrategy Incorporated $MSTR Short Interes...   \n",
       "71678       18124  Monster Beverage Corp $MNST Short Interest Dow...   \n",
       "71679       18125  Tesla - Daily\\n#SP500 \\nShort Term: $660 / $76...   \n",
       "\n",
       "      sentiment     score  Wortzählung Sprache  tweet_length  text_len  \n",
       "0       neutral  0.000000           15      en           112        15  \n",
       "1       neutral  0.000000            6      en            34         6  \n",
       "2       positiv  0.650000           14      en            89        14  \n",
       "3       neutral  0.000000           21      en           112        21  \n",
       "4       neutral  0.000000            7      en            39         7  \n",
       "...         ...       ...          ...     ...           ...       ...  \n",
       "71675   negativ -0.077778           13      en            78        12  \n",
       "71676   negativ -0.077778           12      en            75        11  \n",
       "71677   negativ -0.077778           11      en            76        10  \n",
       "71678   negativ -0.077778           12      en            71        11  \n",
       "71679   negativ -0.006250           46      en           266        46  \n",
       "\n",
       "[71365 rows x 8 columns]"
      ]
     },
     "execution_count": 345,
     "metadata": {},
     "output_type": "execute_result"
    }
   ],
   "source": [
    "df"
   ]
  },
  {
   "cell_type": "markdown",
   "metadata": {},
   "source": [
    "Wortwolke\n"
   ]
  },
  {
   "cell_type": "code",
   "execution_count": 346,
   "metadata": {},
   "outputs": [],
   "source": [
    "#Eine Wortwolke ist eine visuelle Darstellung, die die Häufigkeit der Wörter in einem Text zeigt. \n",
    "#Größere Wörter repräsentieren häufiger vorkommende Wörter."
   ]
  },
  {
   "cell_type": "code",
   "execution_count": 347,
   "metadata": {},
   "outputs": [],
   "source": [
    "from wordcloud import WordCloud\n",
    "import matplotlib.pyplot as plt"
   ]
  },
  {
   "cell_type": "code",
   "execution_count": 348,
   "metadata": {},
   "outputs": [
    {
     "data": {
      "image/png": "[encoded data removed]",
      "text/plain": [
       "<Figure size 1000x800 with 1 Axes>"
      ]
     },
     "metadata": {},
     "output_type": "display_data"
    }
   ],
   "source": [
    "all_tweets_text = \" \".join(tweet for tweet in df['text'])\n",
    "wordcloud = WordCloud(width = 800, height = 400, background_color ='white').generate(all_tweets_text)\n",
    "plt.figure(figsize=(10, 8), edgecolor = 'k')\n",
    "plt.imshow(wordcloud, interpolation='bilinear')\n",
    "plt.axis(\"off\")\n",
    "plt.show()"
   ]
  },
  {
   "cell_type": "code",
   "execution_count": 349,
   "metadata": {},
   "outputs": [
    {
     "data": {
      "image/png": "[encoded data removed]",
      "text/plain": [
       "<Figure size 1000x600 with 1 Axes>"
      ]
     },
     "metadata": {},
     "output_type": "display_data"
    }
   ],
   "source": [
    "from collections import Counter\n",
    "all_words = [word for tweet in df[\"text\"] for word in tweet.split() ]\n",
    "word_counts = Counter(all_words)\n",
    "word_freq_df= pd.DataFrame(word_counts.items(), columns=[\"Wort\", \"Häufigkeit\"])\n",
    "word_freq_df= word_freq_df.sort_values(by=\"Häufigkeit\", ascending=False)\n",
    "N = 10\n",
    "top_words_df = word_freq_df.head(N)\n",
    "\n",
    "plt.figure(figsize=(10, 6 ))\n",
    "plt.bar(top_words_df[\"Wort\"], top_words_df[\"Häufigkeit\"], color=\"skyblue\")\n",
    "plt.xlabel(\"Wörter\")\n",
    "plt.ylabel(\"Häufigkeit\")\n",
    "plt.xticks(rotation=45)\n",
    "plt.title(f\"Top {N} häufigste Wörter in Tweets\")\n",
    "plt.show()"
   ]
  },
  {
   "cell_type": "code",
   "execution_count": 350,
   "metadata": {},
   "outputs": [
    {
     "data": {
      "text/html": [
       "<div>\n",
       "<style scoped>\n",
       "    .dataframe tbody tr th:only-of-type {\n",
       "        vertical-align: middle;\n",
       "    }\n",
       "\n",
       "    .dataframe tbody tr th {\n",
       "        vertical-align: top;\n",
       "    }\n",
       "\n",
       "    .dataframe thead th {\n",
       "        text-align: right;\n",
       "    }\n",
       "</style>\n",
       "<table border=\"1\" class=\"dataframe\">\n",
       "  <thead>\n",
       "    <tr style=\"text-align: right;\">\n",
       "      <th></th>\n",
       "      <th>Wort</th>\n",
       "      <th>Häufigkeit</th>\n",
       "    </tr>\n",
       "  </thead>\n",
       "  <tbody>\n",
       "    <tr>\n",
       "      <th>13</th>\n",
       "      <td>.</td>\n",
       "      <td>32895</td>\n",
       "    </tr>\n",
       "    <tr>\n",
       "      <th>90</th>\n",
       "      <td>the</td>\n",
       "      <td>26455</td>\n",
       "    </tr>\n",
       "    <tr>\n",
       "      <th>99</th>\n",
       "      <td>to</td>\n",
       "      <td>24101</td>\n",
       "    </tr>\n",
       "    <tr>\n",
       "      <th>71</th>\n",
       "      <td>a</td>\n",
       "      <td>15995</td>\n",
       "    </tr>\n",
       "    <tr>\n",
       "      <th>1</th>\n",
       "      <td>of</td>\n",
       "      <td>15745</td>\n",
       "    </tr>\n",
       "    <tr>\n",
       "      <th>89</th>\n",
       "      <td>in</td>\n",
       "      <td>14297</td>\n",
       "    </tr>\n",
       "    <tr>\n",
       "      <th>82</th>\n",
       "      <td>for</td>\n",
       "      <td>13521</td>\n",
       "    </tr>\n",
       "    <tr>\n",
       "      <th>27</th>\n",
       "      <td>and</td>\n",
       "      <td>13148</td>\n",
       "    </tr>\n",
       "    <tr>\n",
       "      <th>95</th>\n",
       "      <td>:</td>\n",
       "      <td>12494</td>\n",
       "    </tr>\n",
       "    <tr>\n",
       "      <th>5</th>\n",
       "      <td>aapl</td>\n",
       "      <td>11897</td>\n",
       "    </tr>\n",
       "  </tbody>\n",
       "</table>\n",
       "</div>"
      ],
      "text/plain": [
       "    Wort  Häufigkeit\n",
       "13     .       32895\n",
       "90   the       26455\n",
       "99    to       24101\n",
       "71     a       15995\n",
       "1     of       15745\n",
       "89    in       14297\n",
       "82   for       13521\n",
       "27   and       13148\n",
       "95     :       12494\n",
       "5   aapl       11897"
      ]
     },
     "execution_count": 350,
     "metadata": {},
     "output_type": "execute_result"
    }
   ],
   "source": [
    "top_words_df"
   ]
  },
  {
   "cell_type": "code",
   "execution_count": 351,
   "metadata": {},
   "outputs": [
    {
     "name": "stdout",
     "output_type": "stream",
     "text": [
      "<class 'pandas.core.frame.DataFrame'>\n",
      "Index: 71365 entries, 0 to 71679\n",
      "Data columns (total 8 columns):\n",
      " #   Column        Non-Null Count  Dtype  \n",
      "---  ------        --------------  -----  \n",
      " 0   Unnamed: 0    71365 non-null  int64  \n",
      " 1   text          71365 non-null  object \n",
      " 2   sentiment     71365 non-null  object \n",
      " 3   score         71365 non-null  float64\n",
      " 4   Wortzählung   71365 non-null  int64  \n",
      " 5   Sprache       71365 non-null  object \n",
      " 6   tweet_length  71365 non-null  int64  \n",
      " 7   text_len      71365 non-null  int64  \n",
      "dtypes: float64(1), int64(4), object(3)\n",
      "memory usage: 4.9+ MB\n"
     ]
    }
   ],
   "source": [
    "df.info()"
   ]
  },
  {
   "cell_type": "code",
   "execution_count": 352,
   "metadata": {},
   "outputs": [
    {
     "data": {
      "text/html": [
       "<div>\n",
       "<style scoped>\n",
       "    .dataframe tbody tr th:only-of-type {\n",
       "        vertical-align: middle;\n",
       "    }\n",
       "\n",
       "    .dataframe tbody tr th {\n",
       "        vertical-align: top;\n",
       "    }\n",
       "\n",
       "    .dataframe thead th {\n",
       "        text-align: right;\n",
       "    }\n",
       "</style>\n",
       "<table border=\"1\" class=\"dataframe\">\n",
       "  <thead>\n",
       "    <tr style=\"text-align: right;\">\n",
       "      <th></th>\n",
       "      <th>Unnamed: 0</th>\n",
       "      <th>text</th>\n",
       "      <th>sentiment</th>\n",
       "      <th>score</th>\n",
       "      <th>Wortzählung</th>\n",
       "      <th>Sprache</th>\n",
       "      <th>tweet_length</th>\n",
       "      <th>text_len</th>\n",
       "    </tr>\n",
       "  </thead>\n",
       "  <tbody>\n",
       "    <tr>\n",
       "      <th>0</th>\n",
       "      <td>0</td>\n",
       "      <td>summary of \"yesterdays\" webcast featuring  aap...</td>\n",
       "      <td>neutral</td>\n",
       "      <td>0.00</td>\n",
       "      <td>15</td>\n",
       "      <td>en</td>\n",
       "      <td>112</td>\n",
       "      <td>15</td>\n",
       "    </tr>\n",
       "    <tr>\n",
       "      <th>1</th>\n",
       "      <td>1</td>\n",
       "      <td>itv will boost apple   aapl apple.</td>\n",
       "      <td>neutral</td>\n",
       "      <td>0.00</td>\n",
       "      <td>6</td>\n",
       "      <td>en</td>\n",
       "      <td>34</td>\n",
       "      <td>6</td>\n",
       "    </tr>\n",
       "    <tr>\n",
       "      <th>2</th>\n",
       "      <td>2</td>\n",
       "      <td>iphone users are more intelligent than samsung...</td>\n",
       "      <td>positiv</td>\n",
       "      <td>0.65</td>\n",
       "      <td>14</td>\n",
       "      <td>en</td>\n",
       "      <td>89</td>\n",
       "      <td>14</td>\n",
       "    </tr>\n",
       "    <tr>\n",
       "      <th>3</th>\n",
       "      <td>3</td>\n",
       "      <td>2013 wrap-up and trading set review - part iii...</td>\n",
       "      <td>neutral</td>\n",
       "      <td>0.00</td>\n",
       "      <td>21</td>\n",
       "      <td>en</td>\n",
       "      <td>112</td>\n",
       "      <td>21</td>\n",
       "    </tr>\n",
       "    <tr>\n",
       "      <th>4</th>\n",
       "      <td>4</td>\n",
       "      <td>apple screwed up big time   amzn  aapl.</td>\n",
       "      <td>neutral</td>\n",
       "      <td>0.00</td>\n",
       "      <td>7</td>\n",
       "      <td>en</td>\n",
       "      <td>39</td>\n",
       "      <td>7</td>\n",
       "    </tr>\n",
       "  </tbody>\n",
       "</table>\n",
       "</div>"
      ],
      "text/plain": [
       "   Unnamed: 0                                               text sentiment  \\\n",
       "0           0  summary of \"yesterdays\" webcast featuring  aap...   neutral   \n",
       "1           1                 itv will boost apple   aapl apple.   neutral   \n",
       "2           2  iphone users are more intelligent than samsung...   positiv   \n",
       "3           3  2013 wrap-up and trading set review - part iii...   neutral   \n",
       "4           4            apple screwed up big time   amzn  aapl.   neutral   \n",
       "\n",
       "   score  Wortzählung Sprache  tweet_length  text_len  \n",
       "0   0.00           15      en           112        15  \n",
       "1   0.00            6      en            34         6  \n",
       "2   0.65           14      en            89        14  \n",
       "3   0.00           21      en           112        21  \n",
       "4   0.00            7      en            39         7  "
      ]
     },
     "execution_count": 352,
     "metadata": {},
     "output_type": "execute_result"
    }
   ],
   "source": [
    "df.head()"
   ]
  },
  {
   "cell_type": "markdown",
   "metadata": {},
   "source": [
    "## lower"
   ]
  },
  {
   "cell_type": "code",
   "execution_count": 353,
   "metadata": {},
   "outputs": [
    {
     "name": "stderr",
     "output_type": "stream",
     "text": [
      "C:\\Users\\ae81goji\\AppData\\Local\\Temp\\ipykernel_24832\\4097916544.py:1: SettingWithCopyWarning: \n",
      "A value is trying to be set on a copy of a slice from a DataFrame.\n",
      "Try using .loc[row_indexer,col_indexer] = value instead\n",
      "\n",
      "See the caveats in the documentation: https://pandas.pydata.org/pandas-docs/stable/user_guide/indexing.html#returning-a-view-versus-a-copy\n",
      "  df[\"text\"]= df[\"text\"].str.lower()\n"
     ]
    }
   ],
   "source": [
    "df[\"text\"]= df[\"text\"].str.lower()"
   ]
  },
  {
   "cell_type": "markdown",
   "metadata": {},
   "source": [
    "## remove stop words, punctuation"
   ]
  },
  {
   "cell_type": "code",
   "execution_count": 354,
   "metadata": {},
   "outputs": [
    {
     "name": "stderr",
     "output_type": "stream",
     "text": [
      "C:\\Users\\ae81goji\\AppData\\Local\\Temp\\ipykernel_24832\\3984467788.py:2: SettingWithCopyWarning: \n",
      "A value is trying to be set on a copy of a slice from a DataFrame.\n",
      "Try using .loc[row_indexer,col_indexer] = value instead\n",
      "\n",
      "See the caveats in the documentation: https://pandas.pydata.org/pandas-docs/stable/user_guide/indexing.html#returning-a-view-versus-a-copy\n",
      "  df[\"text\"]= df[\"text\"].str.replace(r\".\",\" .\")\n",
      "C:\\Users\\ae81goji\\AppData\\Local\\Temp\\ipykernel_24832\\3984467788.py:3: SettingWithCopyWarning: \n",
      "A value is trying to be set on a copy of a slice from a DataFrame.\n",
      "Try using .loc[row_indexer,col_indexer] = value instead\n",
      "\n",
      "See the caveats in the documentation: https://pandas.pydata.org/pandas-docs/stable/user_guide/indexing.html#returning-a-view-versus-a-copy\n",
      "  df[\"text\"]= df[\"text\"].str.replace(r\",\",\" ,\")\n",
      "C:\\Users\\ae81goji\\AppData\\Local\\Temp\\ipykernel_24832\\3984467788.py:4: SettingWithCopyWarning: \n",
      "A value is trying to be set on a copy of a slice from a DataFrame.\n",
      "Try using .loc[row_indexer,col_indexer] = value instead\n",
      "\n",
      "See the caveats in the documentation: https://pandas.pydata.org/pandas-docs/stable/user_guide/indexing.html#returning-a-view-versus-a-copy\n",
      "  df[\"text\"]= df[\"text\"].str.replace(r\"?\",\" ?\")\n"
     ]
    }
   ],
   "source": [
    "#split add space before punctuation\n",
    "df[\"text\"]= df[\"text\"].str.replace(r\".\",\" .\")\n",
    "df[\"text\"]= df[\"text\"].str.replace(r\",\",\" ,\")\n",
    "df[\"text\"]= df[\"text\"].str.replace(r\"?\",\" ?\")\n",
    "#df[\"text\"]= df[\"text\"].str.replace(r\":\",\" :\")"
   ]
  },
  {
   "cell_type": "code",
   "execution_count": 355,
   "metadata": {},
   "outputs": [
    {
     "name": "stderr",
     "output_type": "stream",
     "text": [
      "[nltk_data] Downloading package stopwords to\n",
      "[nltk_data]     C:\\Users\\ae81goji\\AppData\\Roaming\\nltk_data...\n",
      "[nltk_data]   Package stopwords is already up-to-date!\n",
      "[nltk_data] Downloading package punkt to\n",
      "[nltk_data]     C:\\Users\\ae81goji\\AppData\\Roaming\\nltk_data...\n",
      "[nltk_data]   Package punkt is already up-to-date!\n"
     ]
    },
    {
     "data": {
      "text/plain": [
       "True"
      ]
     },
     "execution_count": 355,
     "metadata": {},
     "output_type": "execute_result"
    }
   ],
   "source": [
    "nltk.download('stopwords')\n",
    "nltk.download('punkt')"
   ]
  },
  {
   "cell_type": "markdown",
   "metadata": {},
   "source": [
    "## tokenization"
   ]
  },
  {
   "cell_type": "code",
   "execution_count": 356,
   "metadata": {},
   "outputs": [],
   "source": [
    "stpwrds = nltk.corpus.stopwords.words('english')\n",
    "pntn = string.punctuation"
   ]
  },
  {
   "cell_type": "code",
   "execution_count": 357,
   "metadata": {},
   "outputs": [
    {
     "data": {
      "text/plain": [
       "['i',\n",
       " 'me',\n",
       " 'my',\n",
       " 'myself',\n",
       " 'we',\n",
       " 'our',\n",
       " 'ours',\n",
       " 'ourselves',\n",
       " 'you',\n",
       " \"you're\",\n",
       " \"you've\",\n",
       " \"you'll\",\n",
       " \"you'd\",\n",
       " 'your',\n",
       " 'yours',\n",
       " 'yourself',\n",
       " 'yourselves',\n",
       " 'he',\n",
       " 'him',\n",
       " 'his',\n",
       " 'himself',\n",
       " 'she',\n",
       " \"she's\",\n",
       " 'her',\n",
       " 'hers',\n",
       " 'herself',\n",
       " 'it',\n",
       " \"it's\",\n",
       " 'its',\n",
       " 'itself',\n",
       " 'they',\n",
       " 'them',\n",
       " 'their',\n",
       " 'theirs',\n",
       " 'themselves',\n",
       " 'what',\n",
       " 'which',\n",
       " 'who',\n",
       " 'whom',\n",
       " 'this',\n",
       " 'that',\n",
       " \"that'll\",\n",
       " 'these',\n",
       " 'those',\n",
       " 'am',\n",
       " 'is',\n",
       " 'are',\n",
       " 'was',\n",
       " 'were',\n",
       " 'be',\n",
       " 'been',\n",
       " 'being',\n",
       " 'have',\n",
       " 'has',\n",
       " 'had',\n",
       " 'having',\n",
       " 'do',\n",
       " 'does',\n",
       " 'did',\n",
       " 'doing',\n",
       " 'a',\n",
       " 'an',\n",
       " 'the',\n",
       " 'and',\n",
       " 'but',\n",
       " 'if',\n",
       " 'or',\n",
       " 'because',\n",
       " 'as',\n",
       " 'until',\n",
       " 'while',\n",
       " 'of',\n",
       " 'at',\n",
       " 'by',\n",
       " 'for',\n",
       " 'with',\n",
       " 'about',\n",
       " 'against',\n",
       " 'between',\n",
       " 'into',\n",
       " 'through',\n",
       " 'during',\n",
       " 'before',\n",
       " 'after',\n",
       " 'above',\n",
       " 'below',\n",
       " 'to',\n",
       " 'from',\n",
       " 'up',\n",
       " 'down',\n",
       " 'in',\n",
       " 'out',\n",
       " 'on',\n",
       " 'off',\n",
       " 'over',\n",
       " 'under',\n",
       " 'again',\n",
       " 'further',\n",
       " 'then',\n",
       " 'once',\n",
       " 'here',\n",
       " 'there',\n",
       " 'when',\n",
       " 'where',\n",
       " 'why',\n",
       " 'how',\n",
       " 'all',\n",
       " 'any',\n",
       " 'both',\n",
       " 'each',\n",
       " 'few',\n",
       " 'more',\n",
       " 'most',\n",
       " 'other',\n",
       " 'some',\n",
       " 'such',\n",
       " 'no',\n",
       " 'nor',\n",
       " 'not',\n",
       " 'only',\n",
       " 'own',\n",
       " 'same',\n",
       " 'so',\n",
       " 'than',\n",
       " 'too',\n",
       " 'very',\n",
       " 's',\n",
       " 't',\n",
       " 'can',\n",
       " 'will',\n",
       " 'just',\n",
       " 'don',\n",
       " \"don't\",\n",
       " 'should',\n",
       " \"should've\",\n",
       " 'now',\n",
       " 'd',\n",
       " 'll',\n",
       " 'm',\n",
       " 'o',\n",
       " 're',\n",
       " 've',\n",
       " 'y',\n",
       " 'ain',\n",
       " 'aren',\n",
       " \"aren't\",\n",
       " 'couldn',\n",
       " \"couldn't\",\n",
       " 'didn',\n",
       " \"didn't\",\n",
       " 'doesn',\n",
       " \"doesn't\",\n",
       " 'hadn',\n",
       " \"hadn't\",\n",
       " 'hasn',\n",
       " \"hasn't\",\n",
       " 'haven',\n",
       " \"haven't\",\n",
       " 'isn',\n",
       " \"isn't\",\n",
       " 'ma',\n",
       " 'mightn',\n",
       " \"mightn't\",\n",
       " 'mustn',\n",
       " \"mustn't\",\n",
       " 'needn',\n",
       " \"needn't\",\n",
       " 'shan',\n",
       " \"shan't\",\n",
       " 'shouldn',\n",
       " \"shouldn't\",\n",
       " 'wasn',\n",
       " \"wasn't\",\n",
       " 'weren',\n",
       " \"weren't\",\n",
       " 'won',\n",
       " \"won't\",\n",
       " 'wouldn',\n",
       " \"wouldn't\"]"
      ]
     },
     "execution_count": 357,
     "metadata": {},
     "output_type": "execute_result"
    }
   ],
   "source": [
    "stpwrds"
   ]
  },
  {
   "cell_type": "code",
   "execution_count": 358,
   "metadata": {},
   "outputs": [
    {
     "data": {
      "text/plain": [
       "'!\"#$%&\\'()*+,-./:;<=>?@[\\\\]^_`{|}~'"
      ]
     },
     "execution_count": 358,
     "metadata": {},
     "output_type": "execute_result"
    }
   ],
   "source": [
    "pntn"
   ]
  },
  {
   "cell_type": "code",
   "execution_count": 359,
   "metadata": {},
   "outputs": [
    {
     "data": {
      "text/plain": [
       "' aapl - boeing contract with machinists - details of agreement ->  stock stocks stockaction .'"
      ]
     },
     "execution_count": 359,
     "metadata": {},
     "output_type": "execute_result"
    }
   ],
   "source": [
    "df[\"text\"].iloc[45]"
   ]
  },
  {
   "cell_type": "code",
   "execution_count": 360,
   "metadata": {},
   "outputs": [],
   "source": [
    "def Entfernen_Stoppwörter_Satzzeichen (text):\n",
    "    words= nltk.word_tokenize(text)\n",
    "    filterd_words= [word for word in words if word not in stpwrds and word not in pntn ]\n",
    "    return ' '.join(filterd_words)"
   ]
  },
  {
   "cell_type": "code",
   "execution_count": 361,
   "metadata": {},
   "outputs": [
    {
     "name": "stderr",
     "output_type": "stream",
     "text": [
      "C:\\Users\\ae81goji\\AppData\\Local\\Temp\\ipykernel_24832\\1054210690.py:1: SettingWithCopyWarning: \n",
      "A value is trying to be set on a copy of a slice from a DataFrame.\n",
      "Try using .loc[row_indexer,col_indexer] = value instead\n",
      "\n",
      "See the caveats in the documentation: https://pandas.pydata.org/pandas-docs/stable/user_guide/indexing.html#returning-a-view-versus-a-copy\n",
      "  df[\"text\"]= df[\"text\"].apply(Entfernen_Stoppwörter_Satzzeichen)\n"
     ]
    }
   ],
   "source": [
    "df[\"text\"]= df[\"text\"].apply(Entfernen_Stoppwörter_Satzzeichen)"
   ]
  },
  {
   "cell_type": "code",
   "execution_count": 362,
   "metadata": {},
   "outputs": [
    {
     "data": {
      "text/plain": [
       "'aapl boeing contract machinists details agreement stock stocks stockaction'"
      ]
     },
     "execution_count": 362,
     "metadata": {},
     "output_type": "execute_result"
    }
   ],
   "source": [
    "df[\"text\"].iloc[45]"
   ]
  },
  {
   "cell_type": "markdown",
   "metadata": {},
   "source": [
    "## stemming"
   ]
  },
  {
   "cell_type": "code",
   "execution_count": 363,
   "metadata": {},
   "outputs": [],
   "source": [
    "from nltk.stem.porter import *\n",
    "stemmer = nltk.stem.PorterStemmer()"
   ]
  },
  {
   "cell_type": "code",
   "execution_count": 364,
   "metadata": {},
   "outputs": [
    {
     "data": {
      "text/plain": [
       "\"summary `` yesterdays '' webcast featuring aapl wynn goog lgf tradereducation options hedgingstrategies\""
      ]
     },
     "execution_count": 364,
     "metadata": {},
     "output_type": "execute_result"
    }
   ],
   "source": [
    "df[\"text\"].iloc[0]"
   ]
  },
  {
   "cell_type": "code",
   "execution_count": 365,
   "metadata": {},
   "outputs": [
    {
     "data": {
      "text/plain": [
       "0        summary `` yesterdays '' webcast featuring aap...\n",
       "1                               itv boost apple aapl apple\n",
       "2        iphone users intelligent samsung blackberry ht...\n",
       "3        2013 wrap-up trading set review part iii aapl ...\n",
       "4                         apple screwed big time amzn aapl\n",
       "                               ...                        \n",
       "71675    federal realty investment trust f short intere...\n",
       "71676    microchip technology inc mchp short interest 2...\n",
       "71677    microstrategy incorporated mstr short interest...\n",
       "71678    monster beverage corp mnst short interest 20 ....\n",
       "71679    tesla daily sp500 short term 660 760 next supp...\n",
       "Name: text, Length: 71365, dtype: object"
      ]
     },
     "execution_count": 365,
     "metadata": {},
     "output_type": "execute_result"
    }
   ],
   "source": [
    "df[\"text\"]"
   ]
  },
  {
   "cell_type": "code",
   "execution_count": 366,
   "metadata": {},
   "outputs": [
    {
     "data": {
      "text/plain": [
       "\"summary `` yesterdays '' webcast featuring aapl wynn goog lgf tradereducation options hedgingstrategi\""
      ]
     },
     "execution_count": 366,
     "metadata": {},
     "output_type": "execute_result"
    }
   ],
   "source": [
    "stemmer.stem(word=df['text'].iloc[0])"
   ]
  },
  {
   "cell_type": "code",
   "execution_count": 367,
   "metadata": {},
   "outputs": [
    {
     "data": {
      "text/plain": [
       "'interest'"
      ]
     },
     "execution_count": 367,
     "metadata": {},
     "output_type": "execute_result"
    }
   ],
   "source": [
    "stemmer.stem(\"interesting\")"
   ]
  },
  {
   "cell_type": "code",
   "execution_count": 368,
   "metadata": {},
   "outputs": [],
   "source": [
    "def string_stemmer(text):\n",
    "    words = nltk.word_tokenize(text)\n",
    "    filtered_words = [stemmer.stem(word) for word in words]\n",
    "    return ' '.join(filtered_words)"
   ]
  },
  {
   "cell_type": "code",
   "execution_count": 369,
   "metadata": {},
   "outputs": [
    {
     "name": "stderr",
     "output_type": "stream",
     "text": [
      "C:\\Users\\ae81goji\\AppData\\Local\\Temp\\ipykernel_24832\\3309255266.py:1: SettingWithCopyWarning: \n",
      "A value is trying to be set on a copy of a slice from a DataFrame.\n",
      "Try using .loc[row_indexer,col_indexer] = value instead\n",
      "\n",
      "See the caveats in the documentation: https://pandas.pydata.org/pandas-docs/stable/user_guide/indexing.html#returning-a-view-versus-a-copy\n",
      "  df[\"text\"]= df[\"text\"].apply(string_stemmer)\n"
     ]
    }
   ],
   "source": [
    "df[\"text\"]= df[\"text\"].apply(string_stemmer)"
   ]
  },
  {
   "cell_type": "markdown",
   "metadata": {},
   "source": [
    "## EDA"
   ]
  },
  {
   "cell_type": "code",
   "execution_count": 370,
   "metadata": {},
   "outputs": [],
   "source": [
    "import plotly.graph_objects as go\n",
    "import spacy\n",
    "from wordcloud import WordCloud, STOPWORDS\n",
    "from collections import Counter"
   ]
  },
  {
   "cell_type": "markdown",
   "metadata": {},
   "source": [
    "## normalize"
   ]
  },
  {
   "cell_type": "code",
   "execution_count": 371,
   "metadata": {},
   "outputs": [],
   "source": [
    "nlp = spacy.load(\"en_core_web_sm\")\n",
    "\n",
    "def normalize(msg):\n",
    "    doc = nlp(msg)\n",
    "    res = []\n",
    "\n",
    "    for token in doc:\n",
    "        if(token.is_stop or token.is_punct or token.is_space):\n",
    "            pass\n",
    "        else:\n",
    "            res.append(token.lemma_.lower())\n",
    "\n",
    "    return res"
   ]
  },
  {
   "cell_type": "code",
   "execution_count": 372,
   "metadata": {},
   "outputs": [],
   "source": [
    "#df[\"text_norm\"] = df[\"text\"].apply(normalize)\n",
    "#df.head()"
   ]
  },
  {
   "cell_type": "code",
   "execution_count": 373,
   "metadata": {},
   "outputs": [],
   "source": [
    "#df[\"text_norm\"]"
   ]
  },
  {
   "cell_type": "code",
   "execution_count": 374,
   "metadata": {},
   "outputs": [
    {
     "data": {
      "text/html": [
       "<div>\n",
       "<style scoped>\n",
       "    .dataframe tbody tr th:only-of-type {\n",
       "        vertical-align: middle;\n",
       "    }\n",
       "\n",
       "    .dataframe tbody tr th {\n",
       "        vertical-align: top;\n",
       "    }\n",
       "\n",
       "    .dataframe thead th {\n",
       "        text-align: right;\n",
       "    }\n",
       "</style>\n",
       "<table border=\"1\" class=\"dataframe\">\n",
       "  <thead>\n",
       "    <tr style=\"text-align: right;\">\n",
       "      <th></th>\n",
       "      <th>Unnamed: 0</th>\n",
       "      <th>text</th>\n",
       "      <th>sentiment</th>\n",
       "      <th>score</th>\n",
       "      <th>Wortzählung</th>\n",
       "      <th>Sprache</th>\n",
       "      <th>tweet_length</th>\n",
       "      <th>text_len</th>\n",
       "    </tr>\n",
       "  </thead>\n",
       "  <tbody>\n",
       "    <tr>\n",
       "      <th>0</th>\n",
       "      <td>0</td>\n",
       "      <td>summari `` yesterday `` webcast featur aapl wy...</td>\n",
       "      <td>neutral</td>\n",
       "      <td>0.000000</td>\n",
       "      <td>15</td>\n",
       "      <td>en</td>\n",
       "      <td>112</td>\n",
       "      <td>15</td>\n",
       "    </tr>\n",
       "    <tr>\n",
       "      <th>1</th>\n",
       "      <td>1</td>\n",
       "      <td>itv boost appl aapl appl</td>\n",
       "      <td>neutral</td>\n",
       "      <td>0.000000</td>\n",
       "      <td>6</td>\n",
       "      <td>en</td>\n",
       "      <td>34</td>\n",
       "      <td>6</td>\n",
       "    </tr>\n",
       "    <tr>\n",
       "      <th>2</th>\n",
       "      <td>2</td>\n",
       "      <td>iphon user intellig samsung blackberri htc own...</td>\n",
       "      <td>positiv</td>\n",
       "      <td>0.650000</td>\n",
       "      <td>14</td>\n",
       "      <td>en</td>\n",
       "      <td>89</td>\n",
       "      <td>14</td>\n",
       "    </tr>\n",
       "    <tr>\n",
       "      <th>3</th>\n",
       "      <td>3</td>\n",
       "      <td>2013 wrap-up trade set review part iii aapl ap...</td>\n",
       "      <td>neutral</td>\n",
       "      <td>0.000000</td>\n",
       "      <td>21</td>\n",
       "      <td>en</td>\n",
       "      <td>112</td>\n",
       "      <td>21</td>\n",
       "    </tr>\n",
       "    <tr>\n",
       "      <th>4</th>\n",
       "      <td>4</td>\n",
       "      <td>appl screw big time amzn aapl</td>\n",
       "      <td>neutral</td>\n",
       "      <td>0.000000</td>\n",
       "      <td>7</td>\n",
       "      <td>en</td>\n",
       "      <td>39</td>\n",
       "      <td>7</td>\n",
       "    </tr>\n",
       "    <tr>\n",
       "      <th>...</th>\n",
       "      <td>...</td>\n",
       "      <td>...</td>\n",
       "      <td>...</td>\n",
       "      <td>...</td>\n",
       "      <td>...</td>\n",
       "      <td>...</td>\n",
       "      <td>...</td>\n",
       "      <td>...</td>\n",
       "    </tr>\n",
       "    <tr>\n",
       "      <th>71675</th>\n",
       "      <td>18121</td>\n",
       "      <td>feder realti invest trust f short interest 21 ...</td>\n",
       "      <td>negativ</td>\n",
       "      <td>-0.077778</td>\n",
       "      <td>13</td>\n",
       "      <td>en</td>\n",
       "      <td>78</td>\n",
       "      <td>12</td>\n",
       "    </tr>\n",
       "    <tr>\n",
       "      <th>71676</th>\n",
       "      <td>18122</td>\n",
       "      <td>microchip technolog inc mchp short interest 20...</td>\n",
       "      <td>negativ</td>\n",
       "      <td>-0.077778</td>\n",
       "      <td>12</td>\n",
       "      <td>en</td>\n",
       "      <td>75</td>\n",
       "      <td>11</td>\n",
       "    </tr>\n",
       "    <tr>\n",
       "      <th>71677</th>\n",
       "      <td>18123</td>\n",
       "      <td>microstrategi incorpor mstr short interest 20 ...</td>\n",
       "      <td>negativ</td>\n",
       "      <td>-0.077778</td>\n",
       "      <td>11</td>\n",
       "      <td>en</td>\n",
       "      <td>76</td>\n",
       "      <td>10</td>\n",
       "    </tr>\n",
       "    <tr>\n",
       "      <th>71678</th>\n",
       "      <td>18124</td>\n",
       "      <td>monster beverag corp mnst short interest 20 .5...</td>\n",
       "      <td>negativ</td>\n",
       "      <td>-0.077778</td>\n",
       "      <td>12</td>\n",
       "      <td>en</td>\n",
       "      <td>71</td>\n",
       "      <td>11</td>\n",
       "    </tr>\n",
       "    <tr>\n",
       "      <th>71679</th>\n",
       "      <td>18125</td>\n",
       "      <td>tesla daili sp500 short term 660 760 next supp...</td>\n",
       "      <td>negativ</td>\n",
       "      <td>-0.006250</td>\n",
       "      <td>46</td>\n",
       "      <td>en</td>\n",
       "      <td>266</td>\n",
       "      <td>46</td>\n",
       "    </tr>\n",
       "  </tbody>\n",
       "</table>\n",
       "<p>71365 rows × 8 columns</p>\n",
       "</div>"
      ],
      "text/plain": [
       "       Unnamed: 0                                               text  \\\n",
       "0               0  summari `` yesterday `` webcast featur aapl wy...   \n",
       "1               1                           itv boost appl aapl appl   \n",
       "2               2  iphon user intellig samsung blackberri htc own...   \n",
       "3               3  2013 wrap-up trade set review part iii aapl ap...   \n",
       "4               4                      appl screw big time amzn aapl   \n",
       "...           ...                                                ...   \n",
       "71675       18121  feder realti invest trust f short interest 21 ...   \n",
       "71676       18122  microchip technolog inc mchp short interest 20...   \n",
       "71677       18123  microstrategi incorpor mstr short interest 20 ...   \n",
       "71678       18124  monster beverag corp mnst short interest 20 .5...   \n",
       "71679       18125  tesla daili sp500 short term 660 760 next supp...   \n",
       "\n",
       "      sentiment     score  Wortzählung Sprache  tweet_length  text_len  \n",
       "0       neutral  0.000000           15      en           112        15  \n",
       "1       neutral  0.000000            6      en            34         6  \n",
       "2       positiv  0.650000           14      en            89        14  \n",
       "3       neutral  0.000000           21      en           112        21  \n",
       "4       neutral  0.000000            7      en            39         7  \n",
       "...         ...       ...          ...     ...           ...       ...  \n",
       "71675   negativ -0.077778           13      en            78        12  \n",
       "71676   negativ -0.077778           12      en            75        11  \n",
       "71677   negativ -0.077778           11      en            76        10  \n",
       "71678   negativ -0.077778           12      en            71        11  \n",
       "71679   negativ -0.006250           46      en           266        46  \n",
       "\n",
       "[71365 rows x 8 columns]"
      ]
     },
     "execution_count": 374,
     "metadata": {},
     "output_type": "execute_result"
    }
   ],
   "source": [
    "df"
   ]
  },
  {
   "cell_type": "code",
   "execution_count": 375,
   "metadata": {},
   "outputs": [],
   "source": [
    "#data_speicher= df.to_excel(\"dataset.xlsx\")"
   ]
  },
  {
   "cell_type": "markdown",
   "metadata": {},
   "source": [
    "## word cloud after normalization"
   ]
  },
  {
   "cell_type": "code",
   "execution_count": 376,
   "metadata": {},
   "outputs": [],
   "source": [
    "pd.set_option('display.max_rows', 2000)"
   ]
  },
  {
   "cell_type": "code",
   "execution_count": 377,
   "metadata": {},
   "outputs": [],
   "source": [
    "#words_collection = Counter([item for sublist in df['text_norm'] for item in sublist])\n",
    "#freq_word_df = pd.DataFrame(words_collection.most_common(200))\n",
    "#freq_word_df.columns = ['frequently_used_word','count']\n",
    "\n",
    "#freq_word_df.style.background_gradient(cmap='PuBuGn', low=0, high=0, axis=0, subset=None)"
   ]
  },
  {
   "cell_type": "code",
   "execution_count": 378,
   "metadata": {},
   "outputs": [],
   "source": [
    "#word_list = [item for sublist in df[\"text_norm\"] for item in sublist]\n",
    "#word_string = \" \".join(word_list)\n",
    "\n",
    "#wc_plot = WordCloud(  background_color='white',\n",
    "                     # max_words=6000,\n",
    "                      #width=1000,\n",
    "                     # height=650\n",
    "                     # ).generate(word_string)\n",
    "\n",
    "#plt.figure(figsize=(20,10))\n",
    "#plt.imshow(wc_plot)\n",
    "#plt.axis('off')\n",
    "#plt.show()"
   ]
  },
  {
   "cell_type": "markdown",
   "metadata": {},
   "source": [
    "## Positiv"
   ]
  },
  {
   "cell_type": "code",
   "execution_count": 379,
   "metadata": {},
   "outputs": [],
   "source": [
    "#df_positiv = df[df['sentiment']==\"positiv\"]\n",
    "#words_collection = Counter([item for sublist in df_positiv['text_norm'] for item in sublist])\n",
    "#freq_word_df = pd.DataFrame(words_collection.most_common(80))\n",
    "#freq_word_df.columns = ['frequently_used_word','count']\n",
    "\n",
    "#freq_word_df.style.background_gradient(cmap='PuBuGn', low=0, high=0, axis=0, subset=None)"
   ]
  },
  {
   "cell_type": "code",
   "execution_count": 380,
   "metadata": {},
   "outputs": [],
   "source": [
    "#word_list = [item for sublist in df_positiv['text_norm'] for item in sublist]\n",
    "#word_string = \" \".join(word_list)\n",
    "\n",
    "#wc_plot = WordCloud(  background_color='white',\n",
    "                     # max_words=6000,\n",
    "                     # width=1000,\n",
    "                     # height=650\n",
    "                     # ).generate(word_string)\n",
    "\n",
    "#plt.figure(figsize=(20,10))\n",
    "#plt.imshow(wc_plot)\n",
    "#plt.axis('off')\n",
    "#plt.show()"
   ]
  },
  {
   "cell_type": "markdown",
   "metadata": {},
   "source": [
    "## Neutral"
   ]
  },
  {
   "cell_type": "code",
   "execution_count": 381,
   "metadata": {},
   "outputs": [],
   "source": [
    "#df_neutral= df[df[\"sentiment\"]==\"neutral\"]\n",
    "#words_collection = Counter([item for sublist in df_neutral[\"text_norm\"] for item in sublist])\n",
    "#freq_words_df = pd.DataFrame(words_collection.most_common(80))\n",
    "#freq_words_df.columns = [\"frequently_used_word\", \"count\"]\n",
    "#freq_word_df.style.background_gradient(cmap=\"PuBuGn\", low=0, high=0, axis= 0, subset=None)"
   ]
  },
  {
   "cell_type": "code",
   "execution_count": 382,
   "metadata": {},
   "outputs": [],
   "source": [
    "#word_list = [item for sublist in df_neutral['text_norm'] for item in sublist]\n",
    "#word_string = \" \".join(word_list)\n",
    "\n",
    "#wc_plot = WordCloud(  background_color='white',\n",
    "                      #max_words=6000,\n",
    "                      #width=1000,\n",
    "                     # height=650\n",
    "                     # ).generate(word_string)\n",
    "\n",
    "#plt.figure(figsize=(20,10))\n",
    "#plt.imshow(wc_plot)\n",
    "#plt.axis('off')\n",
    "#plt.show()"
   ]
  },
  {
   "cell_type": "markdown",
   "metadata": {},
   "source": [
    "## Negativ"
   ]
  },
  {
   "cell_type": "code",
   "execution_count": 383,
   "metadata": {},
   "outputs": [
    {
     "data": {
      "text/html": [
       "<div>\n",
       "<style scoped>\n",
       "    .dataframe tbody tr th:only-of-type {\n",
       "        vertical-align: middle;\n",
       "    }\n",
       "\n",
       "    .dataframe tbody tr th {\n",
       "        vertical-align: top;\n",
       "    }\n",
       "\n",
       "    .dataframe thead th {\n",
       "        text-align: right;\n",
       "    }\n",
       "</style>\n",
       "<table border=\"1\" class=\"dataframe\">\n",
       "  <thead>\n",
       "    <tr style=\"text-align: right;\">\n",
       "      <th></th>\n",
       "      <th>Unnamed: 0</th>\n",
       "      <th>text</th>\n",
       "      <th>sentiment</th>\n",
       "      <th>score</th>\n",
       "      <th>Wortzählung</th>\n",
       "      <th>Sprache</th>\n",
       "      <th>tweet_length</th>\n",
       "      <th>text_len</th>\n",
       "    </tr>\n",
       "  </thead>\n",
       "  <tbody>\n",
       "    <tr>\n",
       "      <th>0</th>\n",
       "      <td>0</td>\n",
       "      <td>summari `` yesterday `` webcast featur aapl wy...</td>\n",
       "      <td>neutral</td>\n",
       "      <td>0.000000</td>\n",
       "      <td>15</td>\n",
       "      <td>en</td>\n",
       "      <td>112</td>\n",
       "      <td>15</td>\n",
       "    </tr>\n",
       "    <tr>\n",
       "      <th>1</th>\n",
       "      <td>1</td>\n",
       "      <td>itv boost appl aapl appl</td>\n",
       "      <td>neutral</td>\n",
       "      <td>0.000000</td>\n",
       "      <td>6</td>\n",
       "      <td>en</td>\n",
       "      <td>34</td>\n",
       "      <td>6</td>\n",
       "    </tr>\n",
       "    <tr>\n",
       "      <th>2</th>\n",
       "      <td>2</td>\n",
       "      <td>iphon user intellig samsung blackberri htc own...</td>\n",
       "      <td>positiv</td>\n",
       "      <td>0.650000</td>\n",
       "      <td>14</td>\n",
       "      <td>en</td>\n",
       "      <td>89</td>\n",
       "      <td>14</td>\n",
       "    </tr>\n",
       "    <tr>\n",
       "      <th>3</th>\n",
       "      <td>3</td>\n",
       "      <td>2013 wrap-up trade set review part iii aapl ap...</td>\n",
       "      <td>neutral</td>\n",
       "      <td>0.000000</td>\n",
       "      <td>21</td>\n",
       "      <td>en</td>\n",
       "      <td>112</td>\n",
       "      <td>21</td>\n",
       "    </tr>\n",
       "    <tr>\n",
       "      <th>4</th>\n",
       "      <td>4</td>\n",
       "      <td>appl screw big time amzn aapl</td>\n",
       "      <td>neutral</td>\n",
       "      <td>0.000000</td>\n",
       "      <td>7</td>\n",
       "      <td>en</td>\n",
       "      <td>39</td>\n",
       "      <td>7</td>\n",
       "    </tr>\n",
       "    <tr>\n",
       "      <th>...</th>\n",
       "      <td>...</td>\n",
       "      <td>...</td>\n",
       "      <td>...</td>\n",
       "      <td>...</td>\n",
       "      <td>...</td>\n",
       "      <td>...</td>\n",
       "      <td>...</td>\n",
       "      <td>...</td>\n",
       "    </tr>\n",
       "    <tr>\n",
       "      <th>71675</th>\n",
       "      <td>18121</td>\n",
       "      <td>feder realti invest trust f short interest 21 ...</td>\n",
       "      <td>negativ</td>\n",
       "      <td>-0.077778</td>\n",
       "      <td>13</td>\n",
       "      <td>en</td>\n",
       "      <td>78</td>\n",
       "      <td>12</td>\n",
       "    </tr>\n",
       "    <tr>\n",
       "      <th>71676</th>\n",
       "      <td>18122</td>\n",
       "      <td>microchip technolog inc mchp short interest 20...</td>\n",
       "      <td>negativ</td>\n",
       "      <td>-0.077778</td>\n",
       "      <td>12</td>\n",
       "      <td>en</td>\n",
       "      <td>75</td>\n",
       "      <td>11</td>\n",
       "    </tr>\n",
       "    <tr>\n",
       "      <th>71677</th>\n",
       "      <td>18123</td>\n",
       "      <td>microstrategi incorpor mstr short interest 20 ...</td>\n",
       "      <td>negativ</td>\n",
       "      <td>-0.077778</td>\n",
       "      <td>11</td>\n",
       "      <td>en</td>\n",
       "      <td>76</td>\n",
       "      <td>10</td>\n",
       "    </tr>\n",
       "    <tr>\n",
       "      <th>71678</th>\n",
       "      <td>18124</td>\n",
       "      <td>monster beverag corp mnst short interest 20 .5...</td>\n",
       "      <td>negativ</td>\n",
       "      <td>-0.077778</td>\n",
       "      <td>12</td>\n",
       "      <td>en</td>\n",
       "      <td>71</td>\n",
       "      <td>11</td>\n",
       "    </tr>\n",
       "    <tr>\n",
       "      <th>71679</th>\n",
       "      <td>18125</td>\n",
       "      <td>tesla daili sp500 short term 660 760 next supp...</td>\n",
       "      <td>negativ</td>\n",
       "      <td>-0.006250</td>\n",
       "      <td>46</td>\n",
       "      <td>en</td>\n",
       "      <td>266</td>\n",
       "      <td>46</td>\n",
       "    </tr>\n",
       "  </tbody>\n",
       "</table>\n",
       "<p>71365 rows × 8 columns</p>\n",
       "</div>"
      ],
      "text/plain": [
       "       Unnamed: 0                                               text  \\\n",
       "0               0  summari `` yesterday `` webcast featur aapl wy...   \n",
       "1               1                           itv boost appl aapl appl   \n",
       "2               2  iphon user intellig samsung blackberri htc own...   \n",
       "3               3  2013 wrap-up trade set review part iii aapl ap...   \n",
       "4               4                      appl screw big time amzn aapl   \n",
       "...           ...                                                ...   \n",
       "71675       18121  feder realti invest trust f short interest 21 ...   \n",
       "71676       18122  microchip technolog inc mchp short interest 20...   \n",
       "71677       18123  microstrategi incorpor mstr short interest 20 ...   \n",
       "71678       18124  monster beverag corp mnst short interest 20 .5...   \n",
       "71679       18125  tesla daili sp500 short term 660 760 next supp...   \n",
       "\n",
       "      sentiment     score  Wortzählung Sprache  tweet_length  text_len  \n",
       "0       neutral  0.000000           15      en           112        15  \n",
       "1       neutral  0.000000            6      en            34         6  \n",
       "2       positiv  0.650000           14      en            89        14  \n",
       "3       neutral  0.000000           21      en           112        21  \n",
       "4       neutral  0.000000            7      en            39         7  \n",
       "...         ...       ...          ...     ...           ...       ...  \n",
       "71675   negativ -0.077778           13      en            78        12  \n",
       "71676   negativ -0.077778           12      en            75        11  \n",
       "71677   negativ -0.077778           11      en            76        10  \n",
       "71678   negativ -0.077778           12      en            71        11  \n",
       "71679   negativ -0.006250           46      en           266        46  \n",
       "\n",
       "[71365 rows x 8 columns]"
      ]
     },
     "execution_count": 383,
     "metadata": {},
     "output_type": "execute_result"
    }
   ],
   "source": [
    "df"
   ]
  },
  {
   "cell_type": "code",
   "execution_count": 384,
   "metadata": {},
   "outputs": [],
   "source": [
    "#df_negativ = df[df['sentiment']==\"negativ\"]\n",
    "#words_collection = Counter([item for sublist in df_negativ['text_norm'] for item in sublist])\n",
    "#freq_word_df = pd.DataFrame(words_collection.most_common(80))\n",
    "#freq_word_df.columns = ['frequently_used_word','count']\n",
    "\n",
    "#freq_word_df.style.background_gradient(cmap='PuBuGn', low=0, high=0, axis=0, subset=None)"
   ]
  },
  {
   "cell_type": "code",
   "execution_count": 385,
   "metadata": {},
   "outputs": [],
   "source": [
    "#word_list = [item for sublist in df_negativ['text_norm'] for item in sublist]\n",
    "#word_string = \" \".join(word_list)\n",
    "\n",
    "#wc_plot = WordCloud(  background_color='white',\n",
    "                      #max_words=6000,\n",
    "                     # width=1000,\n",
    "                    #  height=650\n",
    "                    #  ).generate(word_string)\n",
    "\n",
    "#plt.figure(figsize=(20,10))\n",
    "#plt.imshow(wc_plot)\n",
    "#plt.axis('off')\n",
    "#plt.show()"
   ]
  },
  {
   "cell_type": "code",
   "execution_count": 386,
   "metadata": {},
   "outputs": [
    {
     "name": "stdout",
     "output_type": "stream",
     "text": [
      "<class 'pandas.core.frame.DataFrame'>\n",
      "Index: 71365 entries, 0 to 71679\n",
      "Data columns (total 8 columns):\n",
      " #   Column        Non-Null Count  Dtype  \n",
      "---  ------        --------------  -----  \n",
      " 0   Unnamed: 0    71365 non-null  int64  \n",
      " 1   text          71365 non-null  object \n",
      " 2   sentiment     71365 non-null  object \n",
      " 3   score         71365 non-null  float64\n",
      " 4   Wortzählung   71365 non-null  int64  \n",
      " 5   Sprache       71365 non-null  object \n",
      " 6   tweet_length  71365 non-null  int64  \n",
      " 7   text_len      71365 non-null  int64  \n",
      "dtypes: float64(1), int64(4), object(3)\n",
      "memory usage: 4.9+ MB\n"
     ]
    }
   ],
   "source": [
    "df.info()"
   ]
  },
  {
   "cell_type": "markdown",
   "metadata": {},
   "source": [
    "## Preprocessing 2"
   ]
  },
  {
   "cell_type": "markdown",
   "metadata": {},
   "source": []
  },
  {
   "cell_type": "code",
   "execution_count": 387,
   "metadata": {},
   "outputs": [
    {
     "data": {
      "text/html": [
       "<div>\n",
       "<style scoped>\n",
       "    .dataframe tbody tr th:only-of-type {\n",
       "        vertical-align: middle;\n",
       "    }\n",
       "\n",
       "    .dataframe tbody tr th {\n",
       "        vertical-align: top;\n",
       "    }\n",
       "\n",
       "    .dataframe thead th {\n",
       "        text-align: right;\n",
       "    }\n",
       "</style>\n",
       "<table border=\"1\" class=\"dataframe\">\n",
       "  <thead>\n",
       "    <tr style=\"text-align: right;\">\n",
       "      <th></th>\n",
       "      <th>Unnamed: 0</th>\n",
       "      <th>text</th>\n",
       "      <th>sentiment</th>\n",
       "      <th>score</th>\n",
       "      <th>Wortzählung</th>\n",
       "      <th>Sprache</th>\n",
       "      <th>tweet_length</th>\n",
       "      <th>text_len</th>\n",
       "    </tr>\n",
       "  </thead>\n",
       "  <tbody>\n",
       "    <tr>\n",
       "      <th>0</th>\n",
       "      <td>0</td>\n",
       "      <td>summari `` yesterday `` webcast featur aapl wy...</td>\n",
       "      <td>neutral</td>\n",
       "      <td>0.000000</td>\n",
       "      <td>15</td>\n",
       "      <td>en</td>\n",
       "      <td>112</td>\n",
       "      <td>15</td>\n",
       "    </tr>\n",
       "    <tr>\n",
       "      <th>1</th>\n",
       "      <td>1</td>\n",
       "      <td>itv boost appl aapl appl</td>\n",
       "      <td>neutral</td>\n",
       "      <td>0.000000</td>\n",
       "      <td>6</td>\n",
       "      <td>en</td>\n",
       "      <td>34</td>\n",
       "      <td>6</td>\n",
       "    </tr>\n",
       "    <tr>\n",
       "      <th>2</th>\n",
       "      <td>2</td>\n",
       "      <td>iphon user intellig samsung blackberri htc own...</td>\n",
       "      <td>positiv</td>\n",
       "      <td>0.650000</td>\n",
       "      <td>14</td>\n",
       "      <td>en</td>\n",
       "      <td>89</td>\n",
       "      <td>14</td>\n",
       "    </tr>\n",
       "    <tr>\n",
       "      <th>3</th>\n",
       "      <td>3</td>\n",
       "      <td>2013 wrap-up trade set review part iii aapl ap...</td>\n",
       "      <td>neutral</td>\n",
       "      <td>0.000000</td>\n",
       "      <td>21</td>\n",
       "      <td>en</td>\n",
       "      <td>112</td>\n",
       "      <td>21</td>\n",
       "    </tr>\n",
       "    <tr>\n",
       "      <th>4</th>\n",
       "      <td>4</td>\n",
       "      <td>appl screw big time amzn aapl</td>\n",
       "      <td>neutral</td>\n",
       "      <td>0.000000</td>\n",
       "      <td>7</td>\n",
       "      <td>en</td>\n",
       "      <td>39</td>\n",
       "      <td>7</td>\n",
       "    </tr>\n",
       "    <tr>\n",
       "      <th>...</th>\n",
       "      <td>...</td>\n",
       "      <td>...</td>\n",
       "      <td>...</td>\n",
       "      <td>...</td>\n",
       "      <td>...</td>\n",
       "      <td>...</td>\n",
       "      <td>...</td>\n",
       "      <td>...</td>\n",
       "    </tr>\n",
       "    <tr>\n",
       "      <th>71675</th>\n",
       "      <td>18121</td>\n",
       "      <td>feder realti invest trust f short interest 21 ...</td>\n",
       "      <td>negativ</td>\n",
       "      <td>-0.077778</td>\n",
       "      <td>13</td>\n",
       "      <td>en</td>\n",
       "      <td>78</td>\n",
       "      <td>12</td>\n",
       "    </tr>\n",
       "    <tr>\n",
       "      <th>71676</th>\n",
       "      <td>18122</td>\n",
       "      <td>microchip technolog inc mchp short interest 20...</td>\n",
       "      <td>negativ</td>\n",
       "      <td>-0.077778</td>\n",
       "      <td>12</td>\n",
       "      <td>en</td>\n",
       "      <td>75</td>\n",
       "      <td>11</td>\n",
       "    </tr>\n",
       "    <tr>\n",
       "      <th>71677</th>\n",
       "      <td>18123</td>\n",
       "      <td>microstrategi incorpor mstr short interest 20 ...</td>\n",
       "      <td>negativ</td>\n",
       "      <td>-0.077778</td>\n",
       "      <td>11</td>\n",
       "      <td>en</td>\n",
       "      <td>76</td>\n",
       "      <td>10</td>\n",
       "    </tr>\n",
       "    <tr>\n",
       "      <th>71678</th>\n",
       "      <td>18124</td>\n",
       "      <td>monster beverag corp mnst short interest 20 .5...</td>\n",
       "      <td>negativ</td>\n",
       "      <td>-0.077778</td>\n",
       "      <td>12</td>\n",
       "      <td>en</td>\n",
       "      <td>71</td>\n",
       "      <td>11</td>\n",
       "    </tr>\n",
       "    <tr>\n",
       "      <th>71679</th>\n",
       "      <td>18125</td>\n",
       "      <td>tesla daili sp500 short term 660 760 next supp...</td>\n",
       "      <td>negativ</td>\n",
       "      <td>-0.006250</td>\n",
       "      <td>46</td>\n",
       "      <td>en</td>\n",
       "      <td>266</td>\n",
       "      <td>46</td>\n",
       "    </tr>\n",
       "  </tbody>\n",
       "</table>\n",
       "<p>71365 rows × 8 columns</p>\n",
       "</div>"
      ],
      "text/plain": [
       "       Unnamed: 0                                               text  \\\n",
       "0               0  summari `` yesterday `` webcast featur aapl wy...   \n",
       "1               1                           itv boost appl aapl appl   \n",
       "2               2  iphon user intellig samsung blackberri htc own...   \n",
       "3               3  2013 wrap-up trade set review part iii aapl ap...   \n",
       "4               4                      appl screw big time amzn aapl   \n",
       "...           ...                                                ...   \n",
       "71675       18121  feder realti invest trust f short interest 21 ...   \n",
       "71676       18122  microchip technolog inc mchp short interest 20...   \n",
       "71677       18123  microstrategi incorpor mstr short interest 20 ...   \n",
       "71678       18124  monster beverag corp mnst short interest 20 .5...   \n",
       "71679       18125  tesla daili sp500 short term 660 760 next supp...   \n",
       "\n",
       "      sentiment     score  Wortzählung Sprache  tweet_length  text_len  \n",
       "0       neutral  0.000000           15      en           112        15  \n",
       "1       neutral  0.000000            6      en            34         6  \n",
       "2       positiv  0.650000           14      en            89        14  \n",
       "3       neutral  0.000000           21      en           112        21  \n",
       "4       neutral  0.000000            7      en            39         7  \n",
       "...         ...       ...          ...     ...           ...       ...  \n",
       "71675   negativ -0.077778           13      en            78        12  \n",
       "71676   negativ -0.077778           12      en            75        11  \n",
       "71677   negativ -0.077778           11      en            76        10  \n",
       "71678   negativ -0.077778           12      en            71        11  \n",
       "71679   negativ -0.006250           46      en           266        46  \n",
       "\n",
       "[71365 rows x 8 columns]"
      ]
     },
     "execution_count": 387,
     "metadata": {},
     "output_type": "execute_result"
    }
   ],
   "source": [
    "df"
   ]
  },
  {
   "cell_type": "code",
   "execution_count": 388,
   "metadata": {},
   "outputs": [],
   "source": [
    "from sklearn.model_selection import train_test_split\n",
    "from sklearn.preprocessing import LabelEncoder\n",
    "import tensorflow as tf\n",
    "import pandas as pd\n",
    "import numpy as np\n",
    "\n",
    "# Text und Sentiment als Eingabe und Ziel\n",
    "X = df['text']\n",
    "y = df['sentiment']\n",
    "\n",
    "# Konvertieren Sie das Sentiment in numerische Werte\n",
    "le = LabelEncoder()\n",
    "y_encoded = le.fit_transform(y)\n",
    "y_categorical = tf.keras.utils.to_categorical(y_encoded)\n",
    "\n",
    "# Teilen Sie die Daten in Trainings- und Testsets\n",
    "X_train, X_test, y_train, y_test = train_test_split(X, y_categorical, test_size=0.1, stratify=y_encoded)\n"
   ]
  },
  {
   "cell_type": "code",
   "execution_count": null,
   "metadata": {},
   "outputs": [],
   "source": []
  },
  {
   "cell_type": "code",
   "execution_count": null,
   "metadata": {},
   "outputs": [],
   "source": [
    "\n"
   ]
  },
  {
   "cell_type": "code",
   "execution_count": 389,
   "metadata": {},
   "outputs": [
    {
     "name": "stdout",
     "output_type": "stream",
     "text": [
      "<class 'pandas.core.frame.DataFrame'>\n",
      "Index: 71365 entries, 0 to 71679\n",
      "Data columns (total 8 columns):\n",
      " #   Column        Non-Null Count  Dtype  \n",
      "---  ------        --------------  -----  \n",
      " 0   Unnamed: 0    71365 non-null  int64  \n",
      " 1   text          71365 non-null  object \n",
      " 2   sentiment     71365 non-null  object \n",
      " 3   score         71365 non-null  float64\n",
      " 4   Wortzählung   71365 non-null  int64  \n",
      " 5   Sprache       71365 non-null  object \n",
      " 6   tweet_length  71365 non-null  int64  \n",
      " 7   text_len      71365 non-null  int64  \n",
      "dtypes: float64(1), int64(4), object(3)\n",
      "memory usage: 4.9+ MB\n"
     ]
    }
   ],
   "source": [
    "df.info()"
   ]
  },
  {
   "cell_type": "code",
   "execution_count": 390,
   "metadata": {},
   "outputs": [
    {
     "name": "stdout",
     "output_type": "stream",
     "text": [
      "Anzahl einzigartiger Wörter: 53396\n"
     ]
    }
   ],
   "source": [
    "from collections import Counter\n",
    "\n",
    "# Angenommen, 'tweet_text' ist die Spalte mit den Textdaten\n",
    "all_words = [word for tweet in df['text'] for word in tweet.split()]\n",
    "unique_words = Counter(all_words)\n",
    "print(f\"Anzahl einzigartiger Wörter: {len(unique_words)}\")"
   ]
  },
  {
   "cell_type": "code",
   "execution_count": 391,
   "metadata": {},
   "outputs": [],
   "source": [
    "tokenizer = tf.keras.preprocessing.text.Tokenizer(\n",
    "    num_words=53000,  # Basierend auf der Anzahl der einzigartigen Wörter\n",
    "    filters='!\"#$%&()*+,-./:;<=>?@[\\\\]^_`{|}~',\n",
    "    oov_token='<oov>'\n",
    ")"
   ]
  },
  {
   "cell_type": "markdown",
   "metadata": {},
   "source": [
    "## Fit_on_texts"
   ]
  },
  {
   "cell_type": "code",
   "execution_count": 392,
   "metadata": {},
   "outputs": [],
   "source": [
    "tokenizer.fit_on_texts(X_train)"
   ]
  },
  {
   "cell_type": "markdown",
   "metadata": {},
   "source": [
    "## reverse word index"
   ]
  },
  {
   "cell_type": "code",
   "execution_count": 393,
   "metadata": {},
   "outputs": [],
   "source": [
    "word_index = tokenizer.word_index"
   ]
  },
  {
   "cell_type": "code",
   "execution_count": 394,
   "metadata": {},
   "outputs": [],
   "source": [
    "reverse_word_index = dict([(value,key) for (key,value) in word_index.items()])"
   ]
  },
  {
   "cell_type": "markdown",
   "metadata": {},
   "source": [
    "## vocab_size"
   ]
  },
  {
   "cell_type": "code",
   "execution_count": 395,
   "metadata": {},
   "outputs": [
    {
     "data": {
      "text/plain": [
       "44629"
      ]
     },
     "execution_count": 395,
     "metadata": {},
     "output_type": "execute_result"
    }
   ],
   "source": [
    "vocab_size = len(word_index)\n",
    "vocab_size"
   ]
  },
  {
   "cell_type": "markdown",
   "metadata": {},
   "source": [
    "## text to sequences \n"
   ]
  },
  {
   "cell_type": "code",
   "execution_count": 396,
   "metadata": {},
   "outputs": [],
   "source": [
    "tokenizer.fit_on_texts(X_train)"
   ]
  },
  {
   "cell_type": "code",
   "execution_count": 397,
   "metadata": {},
   "outputs": [],
   "source": [
    "# Umwandlung der normalisierten Texte in Sequenzen\n",
    "sequences_tr = tokenizer.texts_to_sequences(X_train)\n",
    "sequences_ts = tokenizer.texts_to_sequences(X_test)"
   ]
  },
  {
   "cell_type": "markdown",
   "metadata": {},
   "source": [
    "## max_len"
   ]
  },
  {
   "cell_type": "code",
   "execution_count": 398,
   "metadata": {},
   "outputs": [],
   "source": [
    "\n",
    "#max_len = max(max(len(x) for x in sequences_tr), max(len(x) for x in sequences_ts))\n",
    "max_len = max(len(x) for x in sequences_ts)"
   ]
  },
  {
   "cell_type": "code",
   "execution_count": 399,
   "metadata": {},
   "outputs": [],
   "source": [
    "#max_len"
   ]
  },
  {
   "cell_type": "code",
   "execution_count": 400,
   "metadata": {},
   "outputs": [
    {
     "data": {
      "text/html": [
       "<div>\n",
       "<style scoped>\n",
       "    .dataframe tbody tr th:only-of-type {\n",
       "        vertical-align: middle;\n",
       "    }\n",
       "\n",
       "    .dataframe tbody tr th {\n",
       "        vertical-align: top;\n",
       "    }\n",
       "\n",
       "    .dataframe thead th {\n",
       "        text-align: right;\n",
       "    }\n",
       "</style>\n",
       "<table border=\"1\" class=\"dataframe\">\n",
       "  <thead>\n",
       "    <tr style=\"text-align: right;\">\n",
       "      <th></th>\n",
       "      <th>Unnamed: 0</th>\n",
       "      <th>text</th>\n",
       "      <th>sentiment</th>\n",
       "      <th>score</th>\n",
       "      <th>Wortzählung</th>\n",
       "      <th>Sprache</th>\n",
       "      <th>tweet_length</th>\n",
       "      <th>text_len</th>\n",
       "    </tr>\n",
       "  </thead>\n",
       "  <tbody>\n",
       "    <tr>\n",
       "      <th>0</th>\n",
       "      <td>0</td>\n",
       "      <td>summari `` yesterday `` webcast featur aapl wy...</td>\n",
       "      <td>neutral</td>\n",
       "      <td>0.000000</td>\n",
       "      <td>15</td>\n",
       "      <td>en</td>\n",
       "      <td>112</td>\n",
       "      <td>15</td>\n",
       "    </tr>\n",
       "    <tr>\n",
       "      <th>1</th>\n",
       "      <td>1</td>\n",
       "      <td>itv boost appl aapl appl</td>\n",
       "      <td>neutral</td>\n",
       "      <td>0.000000</td>\n",
       "      <td>6</td>\n",
       "      <td>en</td>\n",
       "      <td>34</td>\n",
       "      <td>6</td>\n",
       "    </tr>\n",
       "    <tr>\n",
       "      <th>2</th>\n",
       "      <td>2</td>\n",
       "      <td>iphon user intellig samsung blackberri htc own...</td>\n",
       "      <td>positiv</td>\n",
       "      <td>0.650000</td>\n",
       "      <td>14</td>\n",
       "      <td>en</td>\n",
       "      <td>89</td>\n",
       "      <td>14</td>\n",
       "    </tr>\n",
       "    <tr>\n",
       "      <th>3</th>\n",
       "      <td>3</td>\n",
       "      <td>2013 wrap-up trade set review part iii aapl ap...</td>\n",
       "      <td>neutral</td>\n",
       "      <td>0.000000</td>\n",
       "      <td>21</td>\n",
       "      <td>en</td>\n",
       "      <td>112</td>\n",
       "      <td>21</td>\n",
       "    </tr>\n",
       "    <tr>\n",
       "      <th>4</th>\n",
       "      <td>4</td>\n",
       "      <td>appl screw big time amzn aapl</td>\n",
       "      <td>neutral</td>\n",
       "      <td>0.000000</td>\n",
       "      <td>7</td>\n",
       "      <td>en</td>\n",
       "      <td>39</td>\n",
       "      <td>7</td>\n",
       "    </tr>\n",
       "    <tr>\n",
       "      <th>...</th>\n",
       "      <td>...</td>\n",
       "      <td>...</td>\n",
       "      <td>...</td>\n",
       "      <td>...</td>\n",
       "      <td>...</td>\n",
       "      <td>...</td>\n",
       "      <td>...</td>\n",
       "      <td>...</td>\n",
       "    </tr>\n",
       "    <tr>\n",
       "      <th>71675</th>\n",
       "      <td>18121</td>\n",
       "      <td>feder realti invest trust f short interest 21 ...</td>\n",
       "      <td>negativ</td>\n",
       "      <td>-0.077778</td>\n",
       "      <td>13</td>\n",
       "      <td>en</td>\n",
       "      <td>78</td>\n",
       "      <td>12</td>\n",
       "    </tr>\n",
       "    <tr>\n",
       "      <th>71676</th>\n",
       "      <td>18122</td>\n",
       "      <td>microchip technolog inc mchp short interest 20...</td>\n",
       "      <td>negativ</td>\n",
       "      <td>-0.077778</td>\n",
       "      <td>12</td>\n",
       "      <td>en</td>\n",
       "      <td>75</td>\n",
       "      <td>11</td>\n",
       "    </tr>\n",
       "    <tr>\n",
       "      <th>71677</th>\n",
       "      <td>18123</td>\n",
       "      <td>microstrategi incorpor mstr short interest 20 ...</td>\n",
       "      <td>negativ</td>\n",
       "      <td>-0.077778</td>\n",
       "      <td>11</td>\n",
       "      <td>en</td>\n",
       "      <td>76</td>\n",
       "      <td>10</td>\n",
       "    </tr>\n",
       "    <tr>\n",
       "      <th>71678</th>\n",
       "      <td>18124</td>\n",
       "      <td>monster beverag corp mnst short interest 20 .5...</td>\n",
       "      <td>negativ</td>\n",
       "      <td>-0.077778</td>\n",
       "      <td>12</td>\n",
       "      <td>en</td>\n",
       "      <td>71</td>\n",
       "      <td>11</td>\n",
       "    </tr>\n",
       "    <tr>\n",
       "      <th>71679</th>\n",
       "      <td>18125</td>\n",
       "      <td>tesla daili sp500 short term 660 760 next supp...</td>\n",
       "      <td>negativ</td>\n",
       "      <td>-0.006250</td>\n",
       "      <td>46</td>\n",
       "      <td>en</td>\n",
       "      <td>266</td>\n",
       "      <td>46</td>\n",
       "    </tr>\n",
       "  </tbody>\n",
       "</table>\n",
       "<p>71365 rows × 8 columns</p>\n",
       "</div>"
      ],
      "text/plain": [
       "       Unnamed: 0                                               text  \\\n",
       "0               0  summari `` yesterday `` webcast featur aapl wy...   \n",
       "1               1                           itv boost appl aapl appl   \n",
       "2               2  iphon user intellig samsung blackberri htc own...   \n",
       "3               3  2013 wrap-up trade set review part iii aapl ap...   \n",
       "4               4                      appl screw big time amzn aapl   \n",
       "...           ...                                                ...   \n",
       "71675       18121  feder realti invest trust f short interest 21 ...   \n",
       "71676       18122  microchip technolog inc mchp short interest 20...   \n",
       "71677       18123  microstrategi incorpor mstr short interest 20 ...   \n",
       "71678       18124  monster beverag corp mnst short interest 20 .5...   \n",
       "71679       18125  tesla daili sp500 short term 660 760 next supp...   \n",
       "\n",
       "      sentiment     score  Wortzählung Sprache  tweet_length  text_len  \n",
       "0       neutral  0.000000           15      en           112        15  \n",
       "1       neutral  0.000000            6      en            34         6  \n",
       "2       positiv  0.650000           14      en            89        14  \n",
       "3       neutral  0.000000           21      en           112        21  \n",
       "4       neutral  0.000000            7      en            39         7  \n",
       "...         ...       ...          ...     ...           ...       ...  \n",
       "71675   negativ -0.077778           13      en            78        12  \n",
       "71676   negativ -0.077778           12      en            75        11  \n",
       "71677   negativ -0.077778           11      en            76        10  \n",
       "71678   negativ -0.077778           12      en            71        11  \n",
       "71679   negativ -0.006250           46      en           266        46  \n",
       "\n",
       "[71365 rows x 8 columns]"
      ]
     },
     "execution_count": 400,
     "metadata": {},
     "output_type": "execute_result"
    }
   ],
   "source": [
    "df"
   ]
  },
  {
   "cell_type": "code",
   "execution_count": 401,
   "metadata": {},
   "outputs": [],
   "source": [
    "#max_len = max(max(len(x) for x in sequences_tr), max(len(x) for x in sequences_ts))"
   ]
  },
  {
   "cell_type": "code",
   "execution_count": 402,
   "metadata": {},
   "outputs": [
    {
     "data": {
      "text/plain": [
       "61"
      ]
     },
     "execution_count": 402,
     "metadata": {},
     "output_type": "execute_result"
    }
   ],
   "source": [
    "max_len"
   ]
  },
  {
   "cell_type": "code",
   "execution_count": 403,
   "metadata": {},
   "outputs": [
    {
     "data": {
      "text/plain": [
       "<Axes: ylabel='Frequency'>"
      ]
     },
     "execution_count": 403,
     "metadata": {},
     "output_type": "execute_result"
    },
    {
     "data": {
      "image/png": "[encoded data removed]",
      "text/plain": [
       "<Figure size 640x480 with 1 Axes>"
      ]
     },
     "metadata": {},
     "output_type": "display_data"
    }
   ],
   "source": [
    "pd.Series([len(x) for x in sequences_tr]).plot.hist()"
   ]
  },
  {
   "cell_type": "markdown",
   "metadata": {},
   "source": [
    "## padding der Sequenzen"
   ]
  },
  {
   "cell_type": "code",
   "execution_count": 404,
   "metadata": {},
   "outputs": [],
   "source": [
    "padded_sequences_tr = tf.keras.preprocessing.sequence.pad_sequences(sequences_tr, padding='pre', maxlen=max_len)\n",
    "padded_sequences_ts = tf.keras.preprocessing.sequence.pad_sequences(sequences_ts, padding='pre', maxlen=max_len)\n"
   ]
  },
  {
   "cell_type": "code",
   "execution_count": 405,
   "metadata": {},
   "outputs": [
    {
     "data": {
      "text/plain": [
       "64228"
      ]
     },
     "execution_count": 405,
     "metadata": {},
     "output_type": "execute_result"
    }
   ],
   "source": [
    "len(padded_sequences_tr)"
   ]
  },
  {
   "cell_type": "code",
   "execution_count": 406,
   "metadata": {},
   "outputs": [
    {
     "data": {
      "text/plain": [
       "7137"
      ]
     },
     "execution_count": 406,
     "metadata": {},
     "output_type": "execute_result"
    }
   ],
   "source": [
    "len(padded_sequences_ts)"
   ]
  },
  {
   "cell_type": "code",
   "execution_count": 407,
   "metadata": {},
   "outputs": [
    {
     "data": {
      "text/plain": [
       "array([    0,     0,     0,     0,     0,     0,     0,     0,     0,\n",
       "           0,     0,     0,     0,     0,     0,     0,     0,     0,\n",
       "           0,     0,     0,     0,     0,     0,     0,     0,     0,\n",
       "           0,     0,     0,     0,     0,     0,     0,     0,     0,\n",
       "           0,     0,     0,     0,     0,     0,   130,    42,  1542,\n",
       "         338,   106,   189,   174,    67,   204,   325, 22037,   684,\n",
       "        1008, 22038,   392,  9796,   517,  9797,   302])"
      ]
     },
     "execution_count": 407,
     "metadata": {},
     "output_type": "execute_result"
    }
   ],
   "source": [
    "padded_sequences_tr[10]\n"
   ]
  },
  {
   "cell_type": "code",
   "execution_count": 408,
   "metadata": {},
   "outputs": [
    {
     "name": "stdout",
     "output_type": "stream",
     "text": [
      "amount\n",
      "debt\n",
      "issu\n",
      "non\n",
      "financi\n",
      "corpor\n",
      "europ\n",
      "set\n",
      "new\n",
      "record\n",
      "last\n",
      "week\n",
      "worldwid\n",
      "debt\n",
      "sale\n",
      "surg\n",
      "past\n",
      "200\n",
      "billion\n",
      "past\n",
      "week\n",
      "economi\n",
      "invest\n",
      "financialservic\n",
      "stock\n"
     ]
    }
   ],
   "source": [
    "for word in sequences_tr[0]:\n",
    "    print(reverse_word_index[word])"
   ]
  },
  {
   "cell_type": "code",
   "execution_count": 409,
   "metadata": {},
   "outputs": [],
   "source": [
    "#act_rec = 'tanh'\n",
    "#act_dns = 'elu'\n",
    "#act_output = 'softmax'\n",
    "#lrning_rt = .0001\n",
    "#dp_out = .45\n",
    "#embedding_dim = 156"
   ]
  },
  {
   "cell_type": "code",
   "execution_count": 410,
   "metadata": {},
   "outputs": [
    {
     "data": {
      "text/plain": [
       "61"
      ]
     },
     "execution_count": 410,
     "metadata": {},
     "output_type": "execute_result"
    }
   ],
   "source": [
    "# how lon is the longest tweet\n",
    "max_len"
   ]
  },
  {
   "cell_type": "code",
   "execution_count": 411,
   "metadata": {},
   "outputs": [
    {
     "name": "stdout",
     "output_type": "stream",
     "text": [
      "Model: \"sequential_6\"\n",
      "_________________________________________________________________\n",
      " Layer (type)                Output Shape              Param #   \n",
      "=================================================================\n",
      " embedding_6 (Embedding)     (None, 61, 156)           6962280   \n",
      "                                                                 \n",
      " simple_rnn_6 (SimpleRNN)    (None, 103)               26780     \n",
      "                                                                 \n",
      " dense_18 (Dense)            (None, 76)                7904      \n",
      "                                                                 \n",
      " dropout_6 (Dropout)         (None, 76)                0         \n",
      "                                                                 \n",
      " dense_19 (Dense)            (None, 52)                4004      \n",
      "                                                                 \n",
      " dense_20 (Dense)            (None, 3)                 159       \n",
      "                                                                 \n",
      "=================================================================\n",
      "Total params: 7001127 (26.71 MB)\n",
      "Trainable params: 7001127 (26.71 MB)\n",
      "Non-trainable params: 0 (0.00 Byte)\n",
      "_________________________________________________________________\n"
     ]
    }
   ],
   "source": [
    "vocab_size = len(tokenizer.word_index) + 1\n",
    "embedding_dim = 156\n",
    "\n",
    "model = tf.keras.models.Sequential([\n",
    "    tf.keras.layers.Embedding(vocab_size, embedding_dim, input_length=max_len),\n",
    "    tf.keras.layers.SimpleRNN(103, activation='tanh'),\n",
    "    #\n",
    "    tf.keras.layers.Dense(76, activation='elu'),\n",
    "    tf.keras.layers.Dropout(0.45),\n",
    "    tf.keras.layers.Dense(52, activation='elu'),\n",
    "    #\n",
    "    tf.keras.layers.Dense(y_categorical.shape[1], activation='softmax')\n",
    "])\n",
    "\n",
    "model.compile(loss='categorical_crossentropy', optimizer=tf.keras.optimizers.Adam(learning_rate=0.0001), metrics=['categorical_accuracy'])\n",
    "model.summary()\n"
   ]
  },
  {
   "cell_type": "code",
   "execution_count": null,
   "metadata": {},
   "outputs": [],
   "source": [
    "\n"
   ]
  },
  {
   "cell_type": "code",
   "execution_count": 412,
   "metadata": {},
   "outputs": [
    {
     "name": "stdout",
     "output_type": "stream",
     "text": [
      "You must install pydot (`pip install pydot`) and install graphviz (see instructions at https://graphviz.gitlab.io/download/) for plot_model to work.\n"
     ]
    }
   ],
   "source": [
    "from tensorflow.keras.utils import plot_model\n",
    "\n",
    "plot_model(model, to_file='model_architecture.png', show_shapes=True, show_layer_names=True)\n"
   ]
  },
  {
   "cell_type": "code",
   "execution_count": null,
   "metadata": {},
   "outputs": [],
   "source": []
  },
  {
   "cell_type": "code",
   "execution_count": 413,
   "metadata": {},
   "outputs": [
    {
     "name": "stderr",
     "output_type": "stream",
     "text": [
      "c:\\ProgramData\\anaconda3\\Lib\\site-packages\\keras\\src\\engine\\training.py:3079: UserWarning: You are saving your model as an HDF5 file via `model.save()`. This file format is considered legacy. We recommend using instead the native Keras format, e.g. `model.save('my_model.keras')`.\n",
      "  saving_api.save_model(\n"
     ]
    }
   ],
   "source": [
    "model.save(\"simple_RNN.h5\")"
   ]
  },
  {
   "cell_type": "markdown",
   "metadata": {},
   "source": [
    "representation avec pydot\n"
   ]
  },
  {
   "cell_type": "code",
   "execution_count": 414,
   "metadata": {},
   "outputs": [
    {
     "name": "stdout",
     "output_type": "stream",
     "text": [
      "You must install pydot (`pip install pydot`) and install graphviz (see instructions at https://graphviz.gitlab.io/download/) for plot_model to work.\n"
     ]
    }
   ],
   "source": [
    "from tensorflow.keras.utils import plot_model\n",
    "\n",
    "plot_model(model, to_file='model_architecture.png', show_shapes=True, show_layer_names=True)\n"
   ]
  },
  {
   "cell_type": "code",
   "execution_count": 415,
   "metadata": {},
   "outputs": [],
   "source": [
    "#from tensorflow.keras.utils import plot_model\n",
    "\n",
    "#plot_model(model, to_file='model.png', show_shapes=True, show_layer_names=True)\n"
   ]
  },
  {
   "cell_type": "code",
   "execution_count": 416,
   "metadata": {},
   "outputs": [
    {
     "name": "stdout",
     "output_type": "stream",
     "text": [
      "Epoch 1/20\n",
      "50/50 [==============================] - 10s 180ms/step - loss: 1.0422 - categorical_accuracy: 0.4436 - val_loss: 0.9872 - val_categorical_accuracy: 0.4946\n",
      "Epoch 2/20\n",
      "50/50 [==============================] - 9s 174ms/step - loss: 0.9374 - categorical_accuracy: 0.5490 - val_loss: 0.8689 - val_categorical_accuracy: 0.6040\n",
      "Epoch 3/20\n",
      "50/50 [==============================] - 9s 176ms/step - loss: 0.7775 - categorical_accuracy: 0.6575 - val_loss: 0.7329 - val_categorical_accuracy: 0.6702\n",
      "Epoch 4/20\n",
      "50/50 [==============================] - 9s 174ms/step - loss: 0.6139 - categorical_accuracy: 0.7491 - val_loss: 0.6151 - val_categorical_accuracy: 0.7404\n",
      "Epoch 5/20\n",
      "50/50 [==============================] - 9s 174ms/step - loss: 0.4756 - categorical_accuracy: 0.8177 - val_loss: 0.5325 - val_categorical_accuracy: 0.7827\n",
      "Epoch 6/20\n",
      "50/50 [==============================] - 9s 177ms/step - loss: 0.3648 - categorical_accuracy: 0.8670 - val_loss: 0.4766 - val_categorical_accuracy: 0.8141\n",
      "Epoch 7/20\n",
      "50/50 [==============================] - 9s 174ms/step - loss: 0.2849 - categorical_accuracy: 0.9011 - val_loss: 0.4509 - val_categorical_accuracy: 0.8298\n",
      "Epoch 8/20\n",
      "50/50 [==============================] - 9s 174ms/step - loss: 0.2301 - categorical_accuracy: 0.9244 - val_loss: 0.4464 - val_categorical_accuracy: 0.8377\n",
      "Epoch 9/20\n",
      "50/50 [==============================] - 9s 176ms/step - loss: 0.1902 - categorical_accuracy: 0.9392 - val_loss: 0.4518 - val_categorical_accuracy: 0.8400\n",
      "Epoch 10/20\n",
      "50/50 [==============================] - 9s 179ms/step - loss: 0.1594 - categorical_accuracy: 0.9509 - val_loss: 0.4503 - val_categorical_accuracy: 0.8474\n",
      "Epoch 11/20\n",
      "50/50 [==============================] - 9s 174ms/step - loss: 0.1362 - categorical_accuracy: 0.9593 - val_loss: 0.4647 - val_categorical_accuracy: 0.8449\n",
      "Epoch 12/20\n",
      "50/50 [==============================] - 9s 175ms/step - loss: 0.1199 - categorical_accuracy: 0.9641 - val_loss: 0.4824 - val_categorical_accuracy: 0.8430\n",
      "Epoch 13/20\n",
      "50/50 [==============================] - 9s 173ms/step - loss: 0.1045 - categorical_accuracy: 0.9699 - val_loss: 0.5093 - val_categorical_accuracy: 0.8436\n",
      "Epoch 14/20\n",
      "50/50 [==============================] - 9s 174ms/step - loss: 0.0958 - categorical_accuracy: 0.9721 - val_loss: 0.5182 - val_categorical_accuracy: 0.8409\n",
      "Epoch 15/20\n",
      "50/50 [==============================] - 9s 176ms/step - loss: 0.0804 - categorical_accuracy: 0.9774 - val_loss: 0.5354 - val_categorical_accuracy: 0.8420\n",
      "Epoch 16/20\n",
      "50/50 [==============================] - 9s 175ms/step - loss: 0.0743 - categorical_accuracy: 0.9790 - val_loss: 0.5567 - val_categorical_accuracy: 0.8405\n",
      "Epoch 17/20\n",
      "50/50 [==============================] - 9s 173ms/step - loss: 0.0639 - categorical_accuracy: 0.9833 - val_loss: 0.5827 - val_categorical_accuracy: 0.8398\n",
      "Epoch 18/20\n",
      "50/50 [==============================] - 9s 173ms/step - loss: 0.0575 - categorical_accuracy: 0.9849 - val_loss: 0.6093 - val_categorical_accuracy: 0.8377\n",
      "Epoch 19/20\n",
      "50/50 [==============================] - 9s 172ms/step - loss: 0.0532 - categorical_accuracy: 0.9863 - val_loss: 0.6240 - val_categorical_accuracy: 0.8396\n",
      "Epoch 20/20\n",
      "50/50 [==============================] - 9s 174ms/step - loss: 0.0470 - categorical_accuracy: 0.9881 - val_loss: 0.6538 - val_categorical_accuracy: 0.8361\n"
     ]
    }
   ],
   "source": [
    "history = model.fit(padded_sequences_tr, y_train, validation_split=0.2, epochs=20, batch_size=1028)\n"
   ]
  },
  {
   "cell_type": "code",
   "execution_count": 417,
   "metadata": {},
   "outputs": [
    {
     "name": "stdout",
     "output_type": "stream",
     "text": [
      "2008/2008 [==============================] - 9s 4ms/step - loss: 0.1579 - categorical_accuracy: 0.9614\n",
      "Trainingsgenauigkeit: 0.961387574672699\n",
      "224/224 [==============================] - 1s 5ms/step - loss: 0.6408 - categorical_accuracy: 0.8345\n",
      "Testgenauigkeit: 0.8345243334770203\n"
     ]
    },
    {
     "data": {
      "image/png": "[encoded data removed]",
      "text/plain": [
       "<Figure size 800x500 with 1 Axes>"
      ]
     },
     "metadata": {},
     "output_type": "display_data"
    }
   ],
   "source": [
    "# Bewertung des Modells\n",
    "(loss, accuracy) = model.evaluate(padded_sequences_tr, y_train)\n",
    "print(f\"Trainingsgenauigkeit: {accuracy}\")\n",
    "(loss, accuracy) = model.evaluate(padded_sequences_ts, y_test)\n",
    "print(f\"Testgenauigkeit: {accuracy}\")\n",
    "\n",
    "# Plotten des Trainingsverlaufs\n",
    "import matplotlib.pyplot as plt\n",
    "\n",
    "pd.DataFrame(history.history).plot(figsize=(8, 5))\n",
    "plt.grid(True)\n",
    "plt.gca().set_ylim(0, 1)\n",
    "plt.show()"
   ]
  },
  {
   "cell_type": "code",
   "execution_count": 418,
   "metadata": {},
   "outputs": [
    {
     "name": "stdout",
     "output_type": "stream",
     "text": [
      "224/224 [==============================] - 1s 5ms/step\n"
     ]
    },
    {
     "data": {
      "image/png": "[encoded data removed]",
      "text/plain": [
       "<Figure size 640x480 with 2 Axes>"
      ]
     },
     "metadata": {},
     "output_type": "display_data"
    }
   ],
   "source": [
    "from sklearn.metrics import confusion_matrix\n",
    "import seaborn as sns\n",
    "\n",
    "# Vorhersagen\n",
    "y_pred = model.predict(padded_sequences_ts)\n",
    "y_pred_classes = np.argmax(y_pred, axis=1)\n",
    "y_true_classes = np.argmax(y_test, axis=1)\n",
    "\n",
    "# Confusion Matrix\n",
    "cm = confusion_matrix(y_true_classes, y_pred_classes)\n",
    "sns.heatmap(cm, annot=True, fmt='d', cmap='Blues')\n",
    "plt.xlabel('Predicted labels')\n",
    "plt.ylabel('True labels')\n",
    "plt.show()"
   ]
  },
  {
   "cell_type": "code",
   "execution_count": null,
   "metadata": {},
   "outputs": [],
   "source": []
  }
 ],
 "metadata": {
  "kernelspec": {
   "display_name": "Python 3.11.5 ('base')",
   "language": "python",
   "name": "python3"
  },
  "language_info": {
   "codemirror_mode": {
    "name": "ipython",
    "version": 3
   },
   "file_extension": ".py",
   "mimetype": "text/x-python",
   "name": "python",
   "nbconvert_exporter": "python",
   "pygments_lexer": "ipython3",
   "version": "3.11.5"
  },
  "orig_nbformat": 4,
  "vscode": {
   "interpreter": {
    "hash": "3c06e3e46abf38078fe4dac36a0085ec2b134ebbd73dd076183d243eeca6918f"
   }
  }
 },
 "nbformat": 4,
 "nbformat_minor": 2
}
